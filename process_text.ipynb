{
 "cells": [
  {
   "cell_type": "markdown",
   "metadata": {},
   "source": [
    "# Process the text"
   ]
  },
  {
   "cell_type": "markdown",
   "metadata": {},
   "source": [
    "To run this notebook, the following python packages are required (install via pip): `pandas`, `numpy`, `nltk`, `neo4j-driver`"
   ]
  },
  {
   "cell_type": "code",
   "execution_count": 589,
   "metadata": {
    "collapsed": true,
    "deletable": true,
    "editable": true
   },
   "outputs": [],
   "source": [
    "import pandas as pd\n",
    "import numpy as np\n",
    "import nltk"
   ]
  },
  {
   "cell_type": "code",
   "execution_count": 590,
   "metadata": {
    "collapsed": false,
    "deletable": true,
    "editable": true
   },
   "outputs": [],
   "source": [
    "# Read the bAbI data as CSV\n",
    "filename = 'src/main/resources/qa1_single-supporting-fact_train.txt'\n",
    "data = pd.read_csv(filename, delimiter='\\t', names=['sentence', 'answer', 'factid'])\n",
    "data = data.fillna('')\n",
    "\n",
    "# Use NLTK to tokenize the sentences into arrays of words\n",
    "tokenize = lambda row: nltk.word_tokenize(row['sentence'])[1:]\n",
    "data['sentence'] = data.apply(tokenize, axis=1)\n",
    "\n",
    "# Create a DataFrame with just the statements\n",
    "statements = data[data['answer'] == ''] \\\n",
    "    .reset_index(drop=True) \\\n",
    "    .drop('answer', axis=1) \\\n",
    "    .drop('factid', axis=1)\n",
    "\n",
    "# Create a DataFrame with just the questions\n",
    "questions = data[data['answer'] != ''] \\\n",
    "    .reset_index(drop=True)"
   ]
  },
  {
   "cell_type": "code",
   "execution_count": 591,
   "metadata": {
    "collapsed": false
   },
   "outputs": [
    {
     "data": {
      "text/html": [
       "<div>\n",
       "<table border=\"1\" class=\"dataframe\">\n",
       "  <thead>\n",
       "    <tr style=\"text-align: right;\">\n",
       "      <th></th>\n",
       "      <th>sentence</th>\n",
       "      <th>answer</th>\n",
       "      <th>factid</th>\n",
       "    </tr>\n",
       "  </thead>\n",
       "  <tbody>\n",
       "    <tr>\n",
       "      <th>0</th>\n",
       "      <td>[Mary, moved, to, the, bathroom, .]</td>\n",
       "      <td></td>\n",
       "      <td></td>\n",
       "    </tr>\n",
       "    <tr>\n",
       "      <th>1</th>\n",
       "      <td>[John, went, to, the, hallway, .]</td>\n",
       "      <td></td>\n",
       "      <td></td>\n",
       "    </tr>\n",
       "    <tr>\n",
       "      <th>2</th>\n",
       "      <td>[Where, is, Mary, ?]</td>\n",
       "      <td>bathroom</td>\n",
       "      <td>1</td>\n",
       "    </tr>\n",
       "    <tr>\n",
       "      <th>3</th>\n",
       "      <td>[Daniel, went, back, to, the, hallway, .]</td>\n",
       "      <td></td>\n",
       "      <td></td>\n",
       "    </tr>\n",
       "    <tr>\n",
       "      <th>4</th>\n",
       "      <td>[Sandra, moved, to, the, garden, .]</td>\n",
       "      <td></td>\n",
       "      <td></td>\n",
       "    </tr>\n",
       "    <tr>\n",
       "      <th>5</th>\n",
       "      <td>[Where, is, Daniel, ?]</td>\n",
       "      <td>hallway</td>\n",
       "      <td>4</td>\n",
       "    </tr>\n",
       "  </tbody>\n",
       "</table>\n",
       "</div>"
      ],
      "text/plain": [
       "                                    sentence    answer factid\n",
       "0        [Mary, moved, to, the, bathroom, .]                 \n",
       "1          [John, went, to, the, hallway, .]                 \n",
       "2                       [Where, is, Mary, ?]  bathroom      1\n",
       "3  [Daniel, went, back, to, the, hallway, .]                 \n",
       "4        [Sandra, moved, to, the, garden, .]                 \n",
       "5                     [Where, is, Daniel, ?]   hallway      4"
      ]
     },
     "execution_count": 591,
     "metadata": {},
     "output_type": "execute_result"
    }
   ],
   "source": [
    "data[:6]"
   ]
  },
  {
   "cell_type": "code",
   "execution_count": 592,
   "metadata": {
    "collapsed": false,
    "deletable": true,
    "editable": true
   },
   "outputs": [
    {
     "data": {
      "text/html": [
       "<div>\n",
       "<table border=\"1\" class=\"dataframe\">\n",
       "  <thead>\n",
       "    <tr style=\"text-align: right;\">\n",
       "      <th></th>\n",
       "      <th>sentence</th>\n",
       "    </tr>\n",
       "  </thead>\n",
       "  <tbody>\n",
       "    <tr>\n",
       "      <th>0</th>\n",
       "      <td>[Mary, moved, to, the, bathroom, .]</td>\n",
       "    </tr>\n",
       "    <tr>\n",
       "      <th>1</th>\n",
       "      <td>[John, went, to, the, hallway, .]</td>\n",
       "    </tr>\n",
       "    <tr>\n",
       "      <th>2</th>\n",
       "      <td>[Daniel, went, back, to, the, hallway, .]</td>\n",
       "    </tr>\n",
       "    <tr>\n",
       "      <th>3</th>\n",
       "      <td>[Sandra, moved, to, the, garden, .]</td>\n",
       "    </tr>\n",
       "  </tbody>\n",
       "</table>\n",
       "</div>"
      ],
      "text/plain": [
       "                                    sentence\n",
       "0        [Mary, moved, to, the, bathroom, .]\n",
       "1          [John, went, to, the, hallway, .]\n",
       "2  [Daniel, went, back, to, the, hallway, .]\n",
       "3        [Sandra, moved, to, the, garden, .]"
      ]
     },
     "execution_count": 592,
     "metadata": {},
     "output_type": "execute_result"
    }
   ],
   "source": [
    "statements[:4]"
   ]
  },
  {
   "cell_type": "code",
   "execution_count": 593,
   "metadata": {
    "collapsed": false,
    "deletable": true,
    "editable": true
   },
   "outputs": [
    {
     "data": {
      "text/html": [
       "<div>\n",
       "<table border=\"1\" class=\"dataframe\">\n",
       "  <thead>\n",
       "    <tr style=\"text-align: right;\">\n",
       "      <th></th>\n",
       "      <th>sentence</th>\n",
       "      <th>answer</th>\n",
       "      <th>factid</th>\n",
       "    </tr>\n",
       "  </thead>\n",
       "  <tbody>\n",
       "    <tr>\n",
       "      <th>0</th>\n",
       "      <td>[Where, is, Mary, ?]</td>\n",
       "      <td>bathroom</td>\n",
       "      <td>1</td>\n",
       "    </tr>\n",
       "    <tr>\n",
       "      <th>1</th>\n",
       "      <td>[Where, is, Daniel, ?]</td>\n",
       "      <td>hallway</td>\n",
       "      <td>4</td>\n",
       "    </tr>\n",
       "  </tbody>\n",
       "</table>\n",
       "</div>"
      ],
      "text/plain": [
       "                 sentence    answer factid\n",
       "0    [Where, is, Mary, ?]  bathroom      1\n",
       "1  [Where, is, Daniel, ?]   hallway      4"
      ]
     },
     "execution_count": 593,
     "metadata": {},
     "output_type": "execute_result"
    }
   ],
   "source": [
    "questions[:2]"
   ]
  },
  {
   "cell_type": "code",
   "execution_count": 594,
   "metadata": {
    "collapsed": false,
    "deletable": true,
    "editable": true
   },
   "outputs": [],
   "source": [
    "# Tag each token as a part of speech\n",
    "pos_tag = lambda row: nltk.pos_tag(row['sentence'])\n",
    "statements['tag'] = statements.apply(pos_tag, axis=1)"
   ]
  },
  {
   "cell_type": "code",
   "execution_count": 595,
   "metadata": {
    "collapsed": true,
    "deletable": true,
    "editable": true
   },
   "outputs": [],
   "source": [
    "# Extract a (subject, relation, object) triple from each sentence based on the POS tags\n",
    "def extract_triple(tags):\n",
    "    subject, relation, obj = '', '', ''\n",
    "    for word,tag in tags:\n",
    "        if tag == 'NNP':\n",
    "            subject = word\n",
    "        elif tag == 'VBD':\n",
    "            relation = word\n",
    "        elif tag == 'NN':\n",
    "            obj = word\n",
    "    return (subject, relation, obj)"
   ]
  },
  {
   "cell_type": "code",
   "execution_count": 596,
   "metadata": {
    "collapsed": false
   },
   "outputs": [],
   "source": [
    "statements['triple'] = statements.apply(lambda row: extract_triple(row['tag']), axis=1)"
   ]
  },
  {
   "cell_type": "code",
   "execution_count": 597,
   "metadata": {
    "collapsed": false
   },
   "outputs": [
    {
     "data": {
      "text/html": [
       "<div>\n",
       "<table border=\"1\" class=\"dataframe\">\n",
       "  <thead>\n",
       "    <tr style=\"text-align: right;\">\n",
       "      <th></th>\n",
       "      <th>sentence</th>\n",
       "      <th>tag</th>\n",
       "      <th>triple</th>\n",
       "    </tr>\n",
       "  </thead>\n",
       "  <tbody>\n",
       "    <tr>\n",
       "      <th>0</th>\n",
       "      <td>[Mary, moved, to, the, bathroom, .]</td>\n",
       "      <td>[(Mary, NNP), (moved, VBD), (to, TO), (the, DT...</td>\n",
       "      <td>(Mary, moved, bathroom)</td>\n",
       "    </tr>\n",
       "    <tr>\n",
       "      <th>1</th>\n",
       "      <td>[John, went, to, the, hallway, .]</td>\n",
       "      <td>[(John, NNP), (went, VBD), (to, TO), (the, DT)...</td>\n",
       "      <td>(John, went, hallway)</td>\n",
       "    </tr>\n",
       "    <tr>\n",
       "      <th>2</th>\n",
       "      <td>[Daniel, went, back, to, the, hallway, .]</td>\n",
       "      <td>[(Daniel, NNP), (went, VBD), (back, RB), (to, ...</td>\n",
       "      <td>(Daniel, went, hallway)</td>\n",
       "    </tr>\n",
       "    <tr>\n",
       "      <th>3</th>\n",
       "      <td>[Sandra, moved, to, the, garden, .]</td>\n",
       "      <td>[(Sandra, NNP), (moved, VBD), (to, TO), (the, ...</td>\n",
       "      <td>(Sandra, moved, garden)</td>\n",
       "    </tr>\n",
       "    <tr>\n",
       "      <th>4</th>\n",
       "      <td>[John, moved, to, the, office, .]</td>\n",
       "      <td>[(John, NNP), (moved, VBD), (to, TO), (the, DT...</td>\n",
       "      <td>(John, moved, office)</td>\n",
       "    </tr>\n",
       "  </tbody>\n",
       "</table>\n",
       "</div>"
      ],
      "text/plain": [
       "                                    sentence  \\\n",
       "0        [Mary, moved, to, the, bathroom, .]   \n",
       "1          [John, went, to, the, hallway, .]   \n",
       "2  [Daniel, went, back, to, the, hallway, .]   \n",
       "3        [Sandra, moved, to, the, garden, .]   \n",
       "4          [John, moved, to, the, office, .]   \n",
       "\n",
       "                                                 tag                   triple  \n",
       "0  [(Mary, NNP), (moved, VBD), (to, TO), (the, DT...  (Mary, moved, bathroom)  \n",
       "1  [(John, NNP), (went, VBD), (to, TO), (the, DT)...    (John, went, hallway)  \n",
       "2  [(Daniel, NNP), (went, VBD), (back, RB), (to, ...  (Daniel, went, hallway)  \n",
       "3  [(Sandra, NNP), (moved, VBD), (to, TO), (the, ...  (Sandra, moved, garden)  \n",
       "4  [(John, NNP), (moved, VBD), (to, TO), (the, DT...    (John, moved, office)  "
      ]
     },
     "execution_count": 597,
     "metadata": {},
     "output_type": "execute_result"
    }
   ],
   "source": [
    "statements[:5]"
   ]
  },
  {
   "cell_type": "markdown",
   "metadata": {},
   "source": [
    "### Debug Functions"
   ]
  },
  {
   "cell_type": "code",
   "execution_count": 598,
   "metadata": {
    "collapsed": true
   },
   "outputs": [],
   "source": [
    "# Get all statements that refer to the specified person\n",
    "def person_data(person):\n",
    "    return statements[statements['triple'].map(lambda t: t[0] == person)]"
   ]
  },
  {
   "cell_type": "code",
   "execution_count": 599,
   "metadata": {
    "collapsed": false
   },
   "outputs": [
    {
     "data": {
      "text/html": [
       "<div>\n",
       "<table border=\"1\" class=\"dataframe\">\n",
       "  <thead>\n",
       "    <tr style=\"text-align: right;\">\n",
       "      <th></th>\n",
       "      <th>sentence</th>\n",
       "      <th>tag</th>\n",
       "      <th>triple</th>\n",
       "    </tr>\n",
       "  </thead>\n",
       "  <tbody>\n",
       "    <tr>\n",
       "      <th>3</th>\n",
       "      <td>[Sandra, moved, to, the, garden, .]</td>\n",
       "      <td>[(Sandra, NNP), (moved, VBD), (to, TO), (the, ...</td>\n",
       "      <td>(Sandra, moved, garden)</td>\n",
       "    </tr>\n",
       "    <tr>\n",
       "      <th>5</th>\n",
       "      <td>[Sandra, journeyed, to, the, bathroom, .]</td>\n",
       "      <td>[(Sandra, NNP), (journeyed, VBD), (to, TO), (t...</td>\n",
       "      <td>(Sandra, journeyed, bathroom)</td>\n",
       "    </tr>\n",
       "    <tr>\n",
       "      <th>10</th>\n",
       "      <td>[Sandra, travelled, to, the, office, .]</td>\n",
       "      <td>[(Sandra, NNP), (travelled, VBD), (to, TO), (t...</td>\n",
       "      <td>(Sandra, travelled, office)</td>\n",
       "    </tr>\n",
       "  </tbody>\n",
       "</table>\n",
       "</div>"
      ],
      "text/plain": [
       "                                     sentence  \\\n",
       "3         [Sandra, moved, to, the, garden, .]   \n",
       "5   [Sandra, journeyed, to, the, bathroom, .]   \n",
       "10    [Sandra, travelled, to, the, office, .]   \n",
       "\n",
       "                                                  tag  \\\n",
       "3   [(Sandra, NNP), (moved, VBD), (to, TO), (the, ...   \n",
       "5   [(Sandra, NNP), (journeyed, VBD), (to, TO), (t...   \n",
       "10  [(Sandra, NNP), (travelled, VBD), (to, TO), (t...   \n",
       "\n",
       "                           triple  \n",
       "3         (Sandra, moved, garden)  \n",
       "5   (Sandra, journeyed, bathroom)  \n",
       "10    (Sandra, travelled, office)  "
      ]
     },
     "execution_count": 599,
     "metadata": {},
     "output_type": "execute_result"
    }
   ],
   "source": [
    "person_data('Sandra')[:3]"
   ]
  },
  {
   "cell_type": "code",
   "execution_count": 600,
   "metadata": {
    "collapsed": true
   },
   "outputs": [],
   "source": [
    "# Get the n most recent statements that refer to the\n",
    "# specified person in reverse chronological order\n",
    "def most_recent(person, n=5):\n",
    "    return person_data(person)[-n:].iloc[::-1]"
   ]
  },
  {
   "cell_type": "code",
   "execution_count": 601,
   "metadata": {
    "collapsed": false
   },
   "outputs": [
    {
     "data": {
      "text/html": [
       "<div>\n",
       "<table border=\"1\" class=\"dataframe\">\n",
       "  <thead>\n",
       "    <tr style=\"text-align: right;\">\n",
       "      <th></th>\n",
       "      <th>sentence</th>\n",
       "      <th>tag</th>\n",
       "      <th>triple</th>\n",
       "    </tr>\n",
       "  </thead>\n",
       "  <tbody>\n",
       "    <tr>\n",
       "      <th>1999</th>\n",
       "      <td>[Daniel, went, to, the, garden, .]</td>\n",
       "      <td>[(Daniel, NNP), (went, VBD), (to, TO), (the, D...</td>\n",
       "      <td>(Daniel, went, garden)</td>\n",
       "    </tr>\n",
       "    <tr>\n",
       "      <th>1996</th>\n",
       "      <td>[Daniel, travelled, to, the, kitchen, .]</td>\n",
       "      <td>[(Daniel, NNP), (travelled, VBD), (to, TO), (t...</td>\n",
       "      <td>(Daniel, travelled, kitchen)</td>\n",
       "    </tr>\n",
       "    <tr>\n",
       "      <th>1992</th>\n",
       "      <td>[Daniel, moved, to, the, office, .]</td>\n",
       "      <td>[(Daniel, NNP), (moved, VBD), (to, TO), (the, ...</td>\n",
       "      <td>(Daniel, moved, office)</td>\n",
       "    </tr>\n",
       "  </tbody>\n",
       "</table>\n",
       "</div>"
      ],
      "text/plain": [
       "                                      sentence  \\\n",
       "1999        [Daniel, went, to, the, garden, .]   \n",
       "1996  [Daniel, travelled, to, the, kitchen, .]   \n",
       "1992       [Daniel, moved, to, the, office, .]   \n",
       "\n",
       "                                                    tag  \\\n",
       "1999  [(Daniel, NNP), (went, VBD), (to, TO), (the, D...   \n",
       "1996  [(Daniel, NNP), (travelled, VBD), (to, TO), (t...   \n",
       "1992  [(Daniel, NNP), (moved, VBD), (to, TO), (the, ...   \n",
       "\n",
       "                            triple  \n",
       "1999        (Daniel, went, garden)  \n",
       "1996  (Daniel, travelled, kitchen)  \n",
       "1992       (Daniel, moved, office)  "
      ]
     },
     "execution_count": 601,
     "metadata": {},
     "output_type": "execute_result"
    }
   ],
   "source": [
    "most_recent('Daniel', n=3)"
   ]
  },
  {
   "cell_type": "markdown",
   "metadata": {},
   "source": [
    "# Run Queries"
   ]
  },
  {
   "cell_type": "code",
   "execution_count": 602,
   "metadata": {
    "collapsed": false
   },
   "outputs": [],
   "source": [
    "from neo4j.v1 import GraphDatabase, basic_auth"
   ]
  },
  {
   "cell_type": "code",
   "execution_count": 603,
   "metadata": {
    "collapsed": true
   },
   "outputs": [],
   "source": [
    "# Create a neo4j session\n",
    "driver = GraphDatabase.driver('bolt://localhost:7687', auth=basic_auth('neo4j', 'neo4j'))"
   ]
  },
  {
   "cell_type": "code",
   "execution_count": 604,
   "metadata": {
    "collapsed": true
   },
   "outputs": [],
   "source": [
    "# WARNING: This will clear the database when run!\n",
    "def reset_db():\n",
    "    session = driver.session()\n",
    "    session.run('MATCH (n) DETACH DELETE n')"
   ]
  },
  {
   "cell_type": "code",
   "execution_count": 605,
   "metadata": {
    "collapsed": true
   },
   "outputs": [],
   "source": [
    "# Create a graph based on each triple\n",
    "def create(query):\n",
    "    session = driver.session()\n",
    "    for subject,relation,obj in statements['triple']:\n",
    "        session.run(query, { \n",
    "            'subject': subject,\n",
    "            'relation': relation,\n",
    "            'obj': obj\n",
    "        })"
   ]
  },
  {
   "cell_type": "markdown",
   "metadata": {},
   "source": [
    "### V1: Direct relationships"
   ]
  },
  {
   "cell_type": "code",
   "execution_count": 606,
   "metadata": {
    "collapsed": false
   },
   "outputs": [],
   "source": [
    "reset_db()"
   ]
  },
  {
   "cell_type": "code",
   "execution_count": 607,
   "metadata": {
    "collapsed": false
   },
   "outputs": [],
   "source": [
    "# Create a direct relationship between subject and object\n",
    "create('''\n",
    "    MERGE (s:SUBJECT {name: $subject}) \n",
    "    MERGE (o:OBJECT  {name: $obj}) \n",
    "    MERGE (s)-[r:RELATION {name: $relation}]->(o)\n",
    "''')"
   ]
  },
  {
   "cell_type": "markdown",
   "metadata": {},
   "source": [
    "### V2: Nodes for relationships"
   ]
  },
  {
   "cell_type": "code",
   "execution_count": 608,
   "metadata": {
    "collapsed": true
   },
   "outputs": [],
   "source": [
    "reset_db()"
   ]
  },
  {
   "cell_type": "code",
   "execution_count": 609,
   "metadata": {
    "collapsed": true
   },
   "outputs": [],
   "source": [
    "# Represent each relation as a node\n",
    "create('''\n",
    "    MERGE (s:SUBJECT {name: $subject})\n",
    "    MERGE (o:OBJECT  {name: $obj})\n",
    "    CREATE (s)-[:R0]->(r:RELATION {name: $relation})-[:R1]->(o)\n",
    "''')"
   ]
  },
  {
   "cell_type": "markdown",
   "metadata": {},
   "source": [
    "### V3: Linked list of relationships"
   ]
  },
  {
   "cell_type": "code",
   "execution_count": 610,
   "metadata": {
    "collapsed": false
   },
   "outputs": [],
   "source": [
    "reset_db()"
   ]
  },
  {
   "cell_type": "code",
   "execution_count": 611,
   "metadata": {
    "collapsed": false
   },
   "outputs": [],
   "source": [
    "# Represent each relation as a node, ordered by a linked list (per subject)\n",
    "create('''\n",
    "    MERGE (s:SUBJECT {name: $subject})\n",
    "    MERGE (o:OBJECT  {name: $obj})\n",
    "    CREATE (s)-[:R0]->(r:RELATION {name: $relation})-[:R1]->(o)\n",
    "\n",
    "    WITH s,r,o\n",
    "\n",
    "    MATCH (s)-[:R0]->(r2:RELATION)\n",
    "    WHERE r2 <> r AND NOT (r2)-[:NEXT]->() \n",
    "    CREATE (r2)-[:NEXT]->(r)\n",
    "''')"
   ]
  },
  {
   "cell_type": "code",
   "execution_count": 612,
   "metadata": {
    "collapsed": true
   },
   "outputs": [],
   "source": [
    "# Find the room a person is currently in\n",
    "def find_person(person):\n",
    "    query = '''\n",
    "        MATCH (s:SUBJECT {name:$name})-->(r:RELATION)-->(o:OBJECT)\n",
    "        WHERE NOT (r)-[:NEXT]->()\n",
    "        RETURN s,r,o\n",
    "    '''\n",
    "    session = driver.session()\n",
    "    return session.run(query, {'name': person})"
   ]
  },
  {
   "cell_type": "code",
   "execution_count": 613,
   "metadata": {
    "collapsed": false
   },
   "outputs": [
    {
     "name": "stdout",
     "output_type": "stream",
     "text": [
      "office\n"
     ]
    }
   ],
   "source": [
    "# Where is Mary?\n",
    "record = find_person('Mary').single()\n",
    "print(record['o'].get('name'))"
   ]
  },
  {
   "cell_type": "code",
   "execution_count": 614,
   "metadata": {
    "collapsed": false
   },
   "outputs": [
    {
     "data": {
      "text/html": [
       "<div>\n",
       "<table border=\"1\" class=\"dataframe\">\n",
       "  <thead>\n",
       "    <tr style=\"text-align: right;\">\n",
       "      <th></th>\n",
       "      <th>sentence</th>\n",
       "      <th>tag</th>\n",
       "      <th>triple</th>\n",
       "    </tr>\n",
       "  </thead>\n",
       "  <tbody>\n",
       "    <tr>\n",
       "      <th>1994</th>\n",
       "      <td>[Mary, journeyed, to, the, kitchen, .]</td>\n",
       "      <td>[(Mary, NNP), (journeyed, VBD), (to, TO), (the...</td>\n",
       "      <td>(Mary, journeyed, kitchen)</td>\n",
       "    </tr>\n",
       "  </tbody>\n",
       "</table>\n",
       "</div>"
      ],
      "text/plain": [
       "                                    sentence  \\\n",
       "1994  [Mary, journeyed, to, the, kitchen, .]   \n",
       "\n",
       "                                                    tag  \\\n",
       "1994  [(Mary, NNP), (journeyed, VBD), (to, TO), (the...   \n",
       "\n",
       "                          triple  \n",
       "1994  (Mary, journeyed, kitchen)  "
      ]
     },
     "execution_count": 614,
     "metadata": {},
     "output_type": "execute_result"
    }
   ],
   "source": [
    "# Verify that this is true\n",
    "most_recent('Mary', n=1)"
   ]
  },
  {
   "cell_type": "code",
   "execution_count": 615,
   "metadata": {
    "collapsed": false
   },
   "outputs": [],
   "source": [
    "# Find the list of rooms a person was in, ordered by recency\n",
    "def find_person_history(person, n=100):\n",
    "    length = str(n) if n >= 1 else ''\n",
    "    \n",
    "    query = '''\n",
    "        MATCH (s:SUBJECT {name:$name})-->(r:RELATION)-->(o:OBJECT)\n",
    "        WHERE NOT (r)-[:NEXT]->()\n",
    "        \n",
    "        WITH s,r,o\n",
    "        \n",
    "        MATCH (s)-->(r_prev:RELATION)-[k*1..%s]->(r), (r_prev)-->(o_prev:OBJECT)\n",
    "        \n",
    "        WITH size(k) AS dist, r, o, r_prev, o_prev\n",
    "        ORDER BY size(k)\n",
    "        \n",
    "        WITH r, o, r_prev, o_prev\n",
    "        RETURN [r.name] + collect(r_prev.name) AS relation, [o.name] + collect(o_prev.name) AS obj\n",
    "    '''\n",
    "    query = query % length\n",
    "    \n",
    "    session = driver.session()\n",
    "    record = session.run(query, {'name': person}).single()\n",
    "    history = list(zip(record['relation'], record['obj']))[:-1]\n",
    "    \n",
    "    return history"
   ]
  },
  {
   "cell_type": "code",
   "execution_count": 616,
   "metadata": {
    "collapsed": false
   },
   "outputs": [],
   "source": [
    "# Where has John been recently?\n",
    "history = find_person_history('John', n=5)"
   ]
  },
  {
   "cell_type": "code",
   "execution_count": 617,
   "metadata": {
    "collapsed": false
   },
   "outputs": [
    {
     "data": {
      "text/plain": [
       "[('went', 'bedroom'),\n",
       " ('went', 'garden'),\n",
       " ('went', 'office'),\n",
       " ('', 'bedroom'),\n",
       " ('travelled', 'hallway')]"
      ]
     },
     "execution_count": 617,
     "metadata": {},
     "output_type": "execute_result"
    }
   ],
   "source": [
    "history"
   ]
  },
  {
   "cell_type": "code",
   "execution_count": 618,
   "metadata": {
    "collapsed": false
   },
   "outputs": [
    {
     "data": {
      "text/html": [
       "<div>\n",
       "<table border=\"1\" class=\"dataframe\">\n",
       "  <thead>\n",
       "    <tr style=\"text-align: right;\">\n",
       "      <th></th>\n",
       "      <th>sentence</th>\n",
       "      <th>tag</th>\n",
       "      <th>triple</th>\n",
       "    </tr>\n",
       "  </thead>\n",
       "  <tbody>\n",
       "    <tr>\n",
       "      <th>1995</th>\n",
       "      <td>[John, went, back, to, the, bedroom, .]</td>\n",
       "      <td>[(John, NNP), (went, VBD), (back, RB), (to, TO...</td>\n",
       "      <td>(John, went, bedroom)</td>\n",
       "    </tr>\n",
       "    <tr>\n",
       "      <th>1989</th>\n",
       "      <td>[John, went, back, to, the, garden, .]</td>\n",
       "      <td>[(John, NNP), (went, VBD), (back, RB), (to, TO...</td>\n",
       "      <td>(John, went, garden)</td>\n",
       "    </tr>\n",
       "    <tr>\n",
       "      <th>1986</th>\n",
       "      <td>[John, went, back, to, the, office, .]</td>\n",
       "      <td>[(John, NNP), (went, VBD), (back, RB), (to, TO...</td>\n",
       "      <td>(John, went, office)</td>\n",
       "    </tr>\n",
       "    <tr>\n",
       "      <th>1982</th>\n",
       "      <td>[John, journeyed, to, the, bedroom, .]</td>\n",
       "      <td>[(John, NNP), (journeyed, NN), (to, TO), (the,...</td>\n",
       "      <td>(John, , bedroom)</td>\n",
       "    </tr>\n",
       "    <tr>\n",
       "      <th>1979</th>\n",
       "      <td>[John, travelled, to, the, hallway, .]</td>\n",
       "      <td>[(John, NNP), (travelled, VBD), (to, TO), (the...</td>\n",
       "      <td>(John, travelled, hallway)</td>\n",
       "    </tr>\n",
       "  </tbody>\n",
       "</table>\n",
       "</div>"
      ],
      "text/plain": [
       "                                     sentence  \\\n",
       "1995  [John, went, back, to, the, bedroom, .]   \n",
       "1989   [John, went, back, to, the, garden, .]   \n",
       "1986   [John, went, back, to, the, office, .]   \n",
       "1982   [John, journeyed, to, the, bedroom, .]   \n",
       "1979   [John, travelled, to, the, hallway, .]   \n",
       "\n",
       "                                                    tag  \\\n",
       "1995  [(John, NNP), (went, VBD), (back, RB), (to, TO...   \n",
       "1989  [(John, NNP), (went, VBD), (back, RB), (to, TO...   \n",
       "1986  [(John, NNP), (went, VBD), (back, RB), (to, TO...   \n",
       "1982  [(John, NNP), (journeyed, NN), (to, TO), (the,...   \n",
       "1979  [(John, NNP), (travelled, VBD), (to, TO), (the...   \n",
       "\n",
       "                          triple  \n",
       "1995       (John, went, bedroom)  \n",
       "1989        (John, went, garden)  \n",
       "1986        (John, went, office)  \n",
       "1982           (John, , bedroom)  \n",
       "1979  (John, travelled, hallway)  "
      ]
     },
     "execution_count": 618,
     "metadata": {},
     "output_type": "execute_result"
    }
   ],
   "source": [
    "# Verify that John has been to to those places, in that order\n",
    "most_recent('John', n=5)"
   ]
  },
  {
   "cell_type": "code",
   "execution_count": null,
   "metadata": {
    "collapsed": true
   },
   "outputs": [],
   "source": []
  }
 ],
 "metadata": {
  "kernelspec": {
   "display_name": "Python 3",
   "language": "python",
   "name": "python3"
  },
  "language_info": {
   "codemirror_mode": {
    "name": "ipython",
    "version": 3
   },
   "file_extension": ".py",
   "mimetype": "text/x-python",
   "name": "python",
   "nbconvert_exporter": "python",
   "pygments_lexer": "ipython3",
   "version": "3.6.0"
  }
 },
 "nbformat": 4,
 "nbformat_minor": 2
}
