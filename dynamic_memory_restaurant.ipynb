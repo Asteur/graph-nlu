{
 "cells": [
  {
   "cell_type": "markdown",
   "metadata": {},
   "source": [
    "# Restaurant\n",
    "\n",
    "## Import"
   ]
  },
  {
   "cell_type": "code",
   "execution_count": 61,
   "metadata": {
    "collapsed": true
   },
   "outputs": [],
   "source": [
    "import pandas as pd\n",
    "import numpy as np\n",
    "import nltk\n",
    "from sklearn.metrics import accuracy_score\n",
    "from neo4j.v1 import GraphDatabase, basic_auth\n",
    "from collections import defaultdict"
   ]
  },
  {
   "cell_type": "code",
   "execution_count": 2,
   "metadata": {
    "collapsed": false
   },
   "outputs": [
    {
     "data": {
      "text/plain": [
       "(414, 52256)"
      ]
     },
     "execution_count": 2,
     "metadata": {},
     "output_type": "execute_result"
    }
   ],
   "source": [
    "refs_utts = pd.read_pickle('utts_refs.pkl')\n",
    "props = pd.read_pickle('restaurants_props.pkl')\n",
    "len(refs_utts), len(props)"
   ]
  },
  {
   "cell_type": "code",
   "execution_count": 3,
   "metadata": {
    "collapsed": false
   },
   "outputs": [
    {
     "data": {
      "text/html": [
       "<div>\n",
       "<table border=\"1\" class=\"dataframe\">\n",
       "  <thead>\n",
       "    <tr style=\"text-align: right;\">\n",
       "      <th></th>\n",
       "      <th>text</th>\n",
       "      <th>bot</th>\n",
       "      <th>o</th>\n",
       "      <th>ind</th>\n",
       "      <th>mask</th>\n",
       "      <th>gid</th>\n",
       "      <th>target</th>\n",
       "    </tr>\n",
       "  </thead>\n",
       "  <tbody>\n",
       "    <tr>\n",
       "      <th>0</th>\n",
       "      <td>[i, want, a, moderately, priced, restaurant, i...</td>\n",
       "      <td>api_call R_cuisine west moderate</td>\n",
       "      <td>trn</td>\n",
       "      <td>2</td>\n",
       "      <td>True</td>\n",
       "      <td>2</td>\n",
       "      <td>prezzo</td>\n",
       "    </tr>\n",
       "    <tr>\n",
       "      <th>2</th>\n",
       "      <td>[cheap, restaurant, in, the, north, part, of, ...</td>\n",
       "      <td>api_call R_cuisine north cheap</td>\n",
       "      <td>trn</td>\n",
       "      <td>2</td>\n",
       "      <td>True</td>\n",
       "      <td>11</td>\n",
       "      <td>da_vinci_pizzeria</td>\n",
       "    </tr>\n",
       "    <tr>\n",
       "      <th>3</th>\n",
       "      <td>[cheap, restaurant, in, the, south, part, of, ...</td>\n",
       "      <td>api_call R_cuisine south cheap</td>\n",
       "      <td>trn</td>\n",
       "      <td>2</td>\n",
       "      <td>True</td>\n",
       "      <td>12</td>\n",
       "      <td>the_lucky_star</td>\n",
       "    </tr>\n",
       "    <tr>\n",
       "      <th>4</th>\n",
       "      <td>[cheap, restaurant, serving, indian, food]</td>\n",
       "      <td>api_call indian R_location cheap</td>\n",
       "      <td>trn</td>\n",
       "      <td>2</td>\n",
       "      <td>True</td>\n",
       "      <td>15</td>\n",
       "      <td>the_gandhi</td>\n",
       "    </tr>\n",
       "    <tr>\n",
       "      <th>5</th>\n",
       "      <td>[thai, food]</td>\n",
       "      <td>api_call thai R_location R_price</td>\n",
       "      <td>trn</td>\n",
       "      <td>2</td>\n",
       "      <td>True</td>\n",
       "      <td>22</td>\n",
       "      <td>bangkok_city</td>\n",
       "    </tr>\n",
       "  </tbody>\n",
       "</table>\n",
       "</div>"
      ],
      "text/plain": [
       "                                                text  \\\n",
       "0  [i, want, a, moderately, priced, restaurant, i...   \n",
       "2  [cheap, restaurant, in, the, north, part, of, ...   \n",
       "3  [cheap, restaurant, in, the, south, part, of, ...   \n",
       "4         [cheap, restaurant, serving, indian, food]   \n",
       "5                                       [thai, food]   \n",
       "\n",
       "                                bot    o ind  mask  gid             target  \n",
       "0  api_call R_cuisine west moderate  trn   2  True    2             prezzo  \n",
       "2    api_call R_cuisine north cheap  trn   2  True   11  da_vinci_pizzeria  \n",
       "3    api_call R_cuisine south cheap  trn   2  True   12     the_lucky_star  \n",
       "4  api_call indian R_location cheap  trn   2  True   15         the_gandhi  \n",
       "5  api_call thai R_location R_price  trn   2  True   22       bangkok_city  "
      ]
     },
     "execution_count": 3,
     "metadata": {},
     "output_type": "execute_result"
    }
   ],
   "source": [
    "refs_utts[:5]"
   ]
  },
  {
   "cell_type": "code",
   "execution_count": 4,
   "metadata": {
    "collapsed": false
   },
   "outputs": [
    {
     "data": {
      "text/html": [
       "<div>\n",
       "<table border=\"1\" class=\"dataframe\">\n",
       "  <thead>\n",
       "    <tr style=\"text-align: right;\">\n",
       "      <th></th>\n",
       "      <th>rname</th>\n",
       "      <th>attr_key</th>\n",
       "      <th>attr_value</th>\n",
       "    </tr>\n",
       "  </thead>\n",
       "  <tbody>\n",
       "    <tr>\n",
       "      <th>3</th>\n",
       "      <td>saint_johns_chop_house</td>\n",
       "      <td>R_cuisine</td>\n",
       "      <td>british</td>\n",
       "    </tr>\n",
       "    <tr>\n",
       "      <th>4</th>\n",
       "      <td>saint_johns_chop_house</td>\n",
       "      <td>R_location</td>\n",
       "      <td>west</td>\n",
       "    </tr>\n",
       "    <tr>\n",
       "      <th>7</th>\n",
       "      <td>saint_johns_chop_house</td>\n",
       "      <td>R_price</td>\n",
       "      <td>moderate</td>\n",
       "    </tr>\n",
       "    <tr>\n",
       "      <th>10</th>\n",
       "      <td>prezzo</td>\n",
       "      <td>R_cuisine</td>\n",
       "      <td>italian</td>\n",
       "    </tr>\n",
       "    <tr>\n",
       "      <th>11</th>\n",
       "      <td>prezzo</td>\n",
       "      <td>R_location</td>\n",
       "      <td>west</td>\n",
       "    </tr>\n",
       "  </tbody>\n",
       "</table>\n",
       "</div>"
      ],
      "text/plain": [
       "                     rname    attr_key attr_value\n",
       "3   saint_johns_chop_house   R_cuisine    british\n",
       "4   saint_johns_chop_house  R_location       west\n",
       "7   saint_johns_chop_house     R_price   moderate\n",
       "10                  prezzo   R_cuisine    italian\n",
       "11                  prezzo  R_location       west"
      ]
     },
     "execution_count": 4,
     "metadata": {},
     "output_type": "execute_result"
    }
   ],
   "source": [
    "props[:5]"
   ]
  },
  {
   "cell_type": "markdown",
   "metadata": {},
   "source": [
    "## Process Text"
   ]
  },
  {
   "cell_type": "code",
   "execution_count": 5,
   "metadata": {
    "collapsed": true
   },
   "outputs": [],
   "source": [
    "stemmer = nltk.stem.snowball.EnglishStemmer()\n",
    "\n",
    "def stem(sentence):\n",
    "    return [stemmer.stem(w) for w in sentence]"
   ]
  },
  {
   "cell_type": "code",
   "execution_count": 6,
   "metadata": {
    "collapsed": false
   },
   "outputs": [
    {
     "data": {
      "text/plain": [
       "414"
      ]
     },
     "execution_count": 6,
     "metadata": {},
     "output_type": "execute_result"
    }
   ],
   "source": [
    "test = pd.DataFrame()\n",
    "test['text'] = [stem(s) for s in refs_utts.text]\n",
    "test['frame'] = [tuple(stem(f.split()[1:])) for f in refs_utts.bot]\n",
    "len(test)"
   ]
  },
  {
   "cell_type": "code",
   "execution_count": 7,
   "metadata": {
    "collapsed": false
   },
   "outputs": [
    {
     "data": {
      "text/plain": [
       "405"
      ]
     },
     "execution_count": 7,
     "metadata": {},
     "output_type": "execute_result"
    }
   ],
   "source": [
    "# Remove poorly formatted frames\n",
    "test = test[test.frame.map(len) == 3]\n",
    "len(test)"
   ]
  },
  {
   "cell_type": "code",
   "execution_count": 8,
   "metadata": {
    "collapsed": false
   },
   "outputs": [
    {
     "data": {
      "text/html": [
       "<div>\n",
       "<table border=\"1\" class=\"dataframe\">\n",
       "  <thead>\n",
       "    <tr style=\"text-align: right;\">\n",
       "      <th></th>\n",
       "      <th>text</th>\n",
       "      <th>frame</th>\n",
       "    </tr>\n",
       "  </thead>\n",
       "  <tbody>\n",
       "    <tr>\n",
       "      <th>0</th>\n",
       "      <td>[i, want, a, moder, price, restaur, in, the, w...</td>\n",
       "      <td>(r_cuisin, west, moder)</td>\n",
       "    </tr>\n",
       "    <tr>\n",
       "      <th>1</th>\n",
       "      <td>[cheap, restaur, in, the, north, part, of, town]</td>\n",
       "      <td>(r_cuisin, north, cheap)</td>\n",
       "    </tr>\n",
       "    <tr>\n",
       "      <th>2</th>\n",
       "      <td>[cheap, restaur, in, the, south, part, of, town]</td>\n",
       "      <td>(r_cuisin, south, cheap)</td>\n",
       "    </tr>\n",
       "    <tr>\n",
       "      <th>3</th>\n",
       "      <td>[cheap, restaur, serv, indian, food]</td>\n",
       "      <td>(indian, r_locat, cheap)</td>\n",
       "    </tr>\n",
       "    <tr>\n",
       "      <th>4</th>\n",
       "      <td>[thai, food]</td>\n",
       "      <td>(thai, r_locat, r_price)</td>\n",
       "    </tr>\n",
       "  </tbody>\n",
       "</table>\n",
       "</div>"
      ],
      "text/plain": [
       "                                                text                     frame\n",
       "0  [i, want, a, moder, price, restaur, in, the, w...   (r_cuisin, west, moder)\n",
       "1   [cheap, restaur, in, the, north, part, of, town]  (r_cuisin, north, cheap)\n",
       "2   [cheap, restaur, in, the, south, part, of, town]  (r_cuisin, south, cheap)\n",
       "3               [cheap, restaur, serv, indian, food]  (indian, r_locat, cheap)\n",
       "4                                       [thai, food]  (thai, r_locat, r_price)"
      ]
     },
     "execution_count": 8,
     "metadata": {},
     "output_type": "execute_result"
    }
   ],
   "source": [
    "test[:5]"
   ]
  },
  {
   "cell_type": "code",
   "execution_count": 9,
   "metadata": {
    "collapsed": true
   },
   "outputs": [],
   "source": [
    "knowledge = pd.DataFrame()\n",
    "knowledge['restaurant'] = props.rname.copy()\n",
    "knowledge['key'] = [stemmer.stem(s) for s in props.attr_key]\n",
    "knowledge['value'] = [stemmer.stem(s) for s in props.attr_value]"
   ]
  },
  {
   "cell_type": "code",
   "execution_count": 10,
   "metadata": {
    "collapsed": false
   },
   "outputs": [
    {
     "data": {
      "text/html": [
       "<div>\n",
       "<table border=\"1\" class=\"dataframe\">\n",
       "  <thead>\n",
       "    <tr style=\"text-align: right;\">\n",
       "      <th></th>\n",
       "      <th>restaurant</th>\n",
       "      <th>key</th>\n",
       "      <th>value</th>\n",
       "    </tr>\n",
       "  </thead>\n",
       "  <tbody>\n",
       "    <tr>\n",
       "      <th>3</th>\n",
       "      <td>saint_johns_chop_house</td>\n",
       "      <td>r_cuisin</td>\n",
       "      <td>british</td>\n",
       "    </tr>\n",
       "    <tr>\n",
       "      <th>4</th>\n",
       "      <td>saint_johns_chop_house</td>\n",
       "      <td>r_locat</td>\n",
       "      <td>west</td>\n",
       "    </tr>\n",
       "    <tr>\n",
       "      <th>7</th>\n",
       "      <td>saint_johns_chop_house</td>\n",
       "      <td>r_price</td>\n",
       "      <td>moder</td>\n",
       "    </tr>\n",
       "    <tr>\n",
       "      <th>10</th>\n",
       "      <td>prezzo</td>\n",
       "      <td>r_cuisin</td>\n",
       "      <td>italian</td>\n",
       "    </tr>\n",
       "    <tr>\n",
       "      <th>11</th>\n",
       "      <td>prezzo</td>\n",
       "      <td>r_locat</td>\n",
       "      <td>west</td>\n",
       "    </tr>\n",
       "  </tbody>\n",
       "</table>\n",
       "</div>"
      ],
      "text/plain": [
       "                restaurant       key    value\n",
       "3   saint_johns_chop_house  r_cuisin  british\n",
       "4   saint_johns_chop_house   r_locat     west\n",
       "7   saint_johns_chop_house   r_price    moder\n",
       "10                  prezzo  r_cuisin  italian\n",
       "11                  prezzo   r_locat     west"
      ]
     },
     "execution_count": 10,
     "metadata": {},
     "output_type": "execute_result"
    }
   ],
   "source": [
    "knowledge[:5]"
   ]
  },
  {
   "cell_type": "code",
   "execution_count": 11,
   "metadata": {
    "collapsed": false
   },
   "outputs": [],
   "source": [
    "# A dictionary of keys to the list of values they can take\n",
    "# In this instance, keys form mutually exclusive lists of values\n",
    "types = knowledge[['key', 'value']] \\\n",
    "    .groupby('key') \\\n",
    "    .aggregate(lambda x: tuple(set(x))) \\\n",
    "    .reset_index() \\\n",
    "    .set_index('key') \\\n",
    "    .value \\\n",
    "    .to_dict()"
   ]
  },
  {
   "cell_type": "code",
   "execution_count": 12,
   "metadata": {
    "collapsed": false
   },
   "outputs": [
    {
     "data": {
      "text/plain": [
       "('asian_orient', 'vietnames', 'lebanes', 'african', 'thai')"
      ]
     },
     "execution_count": 12,
     "metadata": {},
     "output_type": "execute_result"
    }
   ],
   "source": [
    "types['r_cuisin'][:5]"
   ]
  },
  {
   "cell_type": "code",
   "execution_count": 13,
   "metadata": {
    "collapsed": false
   },
   "outputs": [
    {
     "data": {
      "text/plain": [
       "('centr', 'south', 'west', 'east', 'north')"
      ]
     },
     "execution_count": 13,
     "metadata": {},
     "output_type": "execute_result"
    }
   ],
   "source": [
    "types['r_locat']"
   ]
  },
  {
   "cell_type": "code",
   "execution_count": 14,
   "metadata": {
    "collapsed": false
   },
   "outputs": [
    {
     "data": {
      "text/plain": [
       "('expens', 'moder', 'cheap')"
      ]
     },
     "execution_count": 14,
     "metadata": {},
     "output_type": "execute_result"
    }
   ],
   "source": [
    "types['r_price']"
   ]
  },
  {
   "cell_type": "markdown",
   "metadata": {},
   "source": [
    "## Create Knowledge Graph"
   ]
  },
  {
   "cell_type": "code",
   "execution_count": 15,
   "metadata": {
    "collapsed": true
   },
   "outputs": [],
   "source": [
    "# Create a neo4j session\n",
    "driver = GraphDatabase.driver('bolt://localhost:7687', auth=basic_auth('neo4j', 'neo4j'))"
   ]
  },
  {
   "cell_type": "code",
   "execution_count": 16,
   "metadata": {
    "collapsed": true
   },
   "outputs": [],
   "source": [
    "# WARNING: This will clear the database when run!\n",
    "def reset_db():\n",
    "    session = driver.session()\n",
    "    session.run('MATCH (n) DETACH DELETE n')"
   ]
  },
  {
   "cell_type": "code",
   "execution_count": 17,
   "metadata": {
    "collapsed": false
   },
   "outputs": [],
   "source": [
    "reset_db()"
   ]
  },
  {
   "cell_type": "code",
   "execution_count": 18,
   "metadata": {
    "collapsed": false
   },
   "outputs": [],
   "source": [
    "session = driver.session()\n",
    "\n",
    "for i,row in knowledge.iterrows():\n",
    "    subject, relation, obj = row.restaurant, row.key, row.value\n",
    "    session.run('''\n",
    "        MERGE (s:SUBJECT {name: $subject}) \n",
    "        MERGE (o:OBJECT  {name: $obj}) \n",
    "        MERGE (s)-[r:RELATION {name: $relation}]->(o)\n",
    "    ''', { \n",
    "        'subject': subject,\n",
    "        'relation': relation,\n",
    "        'obj': obj\n",
    "    })"
   ]
  },
  {
   "cell_type": "markdown",
   "metadata": {},
   "source": [
    "## Test\n",
    "#### Baseline\n",
    "The baseline accuracy is the slot accuracy, calculated by the assumption of not knowing any frame values for any of the sentences."
   ]
  },
  {
   "cell_type": "code",
   "execution_count": 19,
   "metadata": {
    "collapsed": false
   },
   "outputs": [
    {
     "data": {
      "text/plain": [
       "('r_cuisin', 'r_locat', 'r_price')"
      ]
     },
     "execution_count": 19,
     "metadata": {},
     "output_type": "execute_result"
    }
   ],
   "source": [
    "dont_know = tuple(types.keys())\n",
    "dont_know"
   ]
  },
  {
   "cell_type": "code",
   "execution_count": 20,
   "metadata": {
    "collapsed": false
   },
   "outputs": [],
   "source": [
    "base_predicted = list(dont_know) * len(test)\n",
    "base_actual = [w for frame in test.frame for w in frame]"
   ]
  },
  {
   "cell_type": "code",
   "execution_count": 21,
   "metadata": {
    "collapsed": false
   },
   "outputs": [
    {
     "data": {
      "text/plain": [
       "0.45267489711934156"
      ]
     },
     "execution_count": 21,
     "metadata": {},
     "output_type": "execute_result"
    }
   ],
   "source": [
    "accuracy_score(base_actual, base_predicted)"
   ]
  },
  {
   "cell_type": "markdown",
   "metadata": {},
   "source": [
    "#### Accuracy"
   ]
  },
  {
   "cell_type": "code",
   "execution_count": 91,
   "metadata": {
    "collapsed": false
   },
   "outputs": [],
   "source": [
    "# Cache properties from DB\n",
    "# Running this query will obtain all properties at this point in time\n",
    "def get_properties():\n",
    "    session = driver.session()\n",
    "    return session.run('''\n",
    "        MATCH ()-[r:RELATION]->(o:OBJECT) \n",
    "        RETURN collect(distinct o.name) AS properties\n",
    "    ''').single()['properties']"
   ]
  },
  {
   "cell_type": "code",
   "execution_count": 92,
   "metadata": {
    "collapsed": true
   },
   "outputs": [],
   "source": [
    "# def get_types():\n",
    "#     session = driver.session()\n",
    "#     result = session.run('''\n",
    "#         MATCH ()-[r:RELATION]->(o:OBJECT) \n",
    "#         RETURN collect(distinct [r.name, o.name]) AS pair\n",
    "#     ''').single()[0]\n",
    "    \n",
    "#     g_types = defaultdict(lambda: [])\n",
    "#     for k,v in result:\n",
    "#         g_types[k].append(v)\n",
    "#     return g_types"
   ]
  },
  {
   "cell_type": "code",
   "execution_count": 115,
   "metadata": {
    "collapsed": false
   },
   "outputs": [],
   "source": [
    "properties = set(get_properties())"
   ]
  },
  {
   "cell_type": "code",
   "execution_count": 116,
   "metadata": {
    "collapsed": true
   },
   "outputs": [],
   "source": [
    "# Hotword listener\n",
    "def is_hotword(word):\n",
    "    return word in properties"
   ]
  },
  {
   "cell_type": "code",
   "execution_count": 117,
   "metadata": {
    "collapsed": false
   },
   "outputs": [
    {
     "data": {
      "text/plain": [
       "(True, False)"
      ]
     },
     "execution_count": 117,
     "metadata": {},
     "output_type": "execute_result"
    }
   ],
   "source": [
    "is_hotword('british'), is_hotword('python')"
   ]
  },
  {
   "cell_type": "code",
   "execution_count": 122,
   "metadata": {
    "collapsed": true
   },
   "outputs": [],
   "source": [
    "# Issue DB queries\n",
    "def find_slot(prop):\n",
    "    return session.run('''\n",
    "        MATCH (s:SUBJECT)-[r:RELATION]->(o:OBJECT {name:$name}) \n",
    "        RETURN collect(distinct [r.name, o.name]) AS properties\n",
    "    ''', {\n",
    "        'name': prop\n",
    "    })\n",
    "\n",
    "def extract(result):\n",
    "    return result.single()['properties'][0]"
   ]
  },
  {
   "cell_type": "code",
   "execution_count": 123,
   "metadata": {
    "collapsed": false
   },
   "outputs": [
    {
     "data": {
      "text/plain": [
       "['r_locat', 'west']"
      ]
     },
     "execution_count": 123,
     "metadata": {},
     "output_type": "execute_result"
    }
   ],
   "source": [
    "session = driver.session()\n",
    "extract(find_slot('west'))"
   ]
  },
  {
   "cell_type": "code",
   "execution_count": 167,
   "metadata": {
    "collapsed": false
   },
   "outputs": [],
   "source": [
    "session = driver.session()\n",
    "all_slots = [[find_slot(word) for word in sentence if is_hotword(word)] for sentence in test.text]\n",
    "extracted_slots = [[tuple(extract(slot)) for slot in slots] for slots in all_slots]\n",
    "test['slots'] = extracted_slots"
   ]
  },
  {
   "cell_type": "code",
   "execution_count": 168,
   "metadata": {
    "collapsed": true
   },
   "outputs": [],
   "source": [
    "def to_frame(slots):\n",
    "    frame = list(dont_know)\n",
    "    s = dict(slots)\n",
    "    \n",
    "    for i,x in enumerate(frame):\n",
    "        if x in s.keys():\n",
    "            frame[i] = s[x]\n",
    "    \n",
    "    return tuple(frame)"
   ]
  },
  {
   "cell_type": "code",
   "execution_count": 169,
   "metadata": {
    "collapsed": false
   },
   "outputs": [],
   "source": [
    "test['predicted'] = [to_frame(slot) for slot in test.slots]"
   ]
  },
  {
   "cell_type": "code",
   "execution_count": 170,
   "metadata": {
    "collapsed": false
   },
   "outputs": [
    {
     "data": {
      "text/html": [
       "<div>\n",
       "<table border=\"1\" class=\"dataframe\">\n",
       "  <thead>\n",
       "    <tr style=\"text-align: right;\">\n",
       "      <th></th>\n",
       "      <th>text</th>\n",
       "      <th>frame</th>\n",
       "      <th>slots</th>\n",
       "      <th>predicted</th>\n",
       "    </tr>\n",
       "  </thead>\n",
       "  <tbody>\n",
       "    <tr>\n",
       "      <th>0</th>\n",
       "      <td>[i, want, a, moder, price, restaur, in, the, w...</td>\n",
       "      <td>(r_cuisin, west, moder)</td>\n",
       "      <td>[(r_price, moder), (r_locat, west)]</td>\n",
       "      <td>(r_cuisin, west, moder)</td>\n",
       "    </tr>\n",
       "    <tr>\n",
       "      <th>1</th>\n",
       "      <td>[cheap, restaur, in, the, north, part, of, town]</td>\n",
       "      <td>(r_cuisin, north, cheap)</td>\n",
       "      <td>[(r_price, cheap), (r_locat, north)]</td>\n",
       "      <td>(r_cuisin, north, cheap)</td>\n",
       "    </tr>\n",
       "    <tr>\n",
       "      <th>2</th>\n",
       "      <td>[cheap, restaur, in, the, south, part, of, town]</td>\n",
       "      <td>(r_cuisin, south, cheap)</td>\n",
       "      <td>[(r_price, cheap), (r_locat, south)]</td>\n",
       "      <td>(r_cuisin, south, cheap)</td>\n",
       "    </tr>\n",
       "    <tr>\n",
       "      <th>3</th>\n",
       "      <td>[cheap, restaur, serv, indian, food]</td>\n",
       "      <td>(indian, r_locat, cheap)</td>\n",
       "      <td>[(r_price, cheap), (r_cuisin, indian)]</td>\n",
       "      <td>(indian, r_locat, cheap)</td>\n",
       "    </tr>\n",
       "    <tr>\n",
       "      <th>4</th>\n",
       "      <td>[thai, food]</td>\n",
       "      <td>(thai, r_locat, r_price)</td>\n",
       "      <td>[(r_cuisin, thai)]</td>\n",
       "      <td>(thai, r_locat, r_price)</td>\n",
       "    </tr>\n",
       "  </tbody>\n",
       "</table>\n",
       "</div>"
      ],
      "text/plain": [
       "                                                text  \\\n",
       "0  [i, want, a, moder, price, restaur, in, the, w...   \n",
       "1   [cheap, restaur, in, the, north, part, of, town]   \n",
       "2   [cheap, restaur, in, the, south, part, of, town]   \n",
       "3               [cheap, restaur, serv, indian, food]   \n",
       "4                                       [thai, food]   \n",
       "\n",
       "                      frame                                   slots  \\\n",
       "0   (r_cuisin, west, moder)     [(r_price, moder), (r_locat, west)]   \n",
       "1  (r_cuisin, north, cheap)    [(r_price, cheap), (r_locat, north)]   \n",
       "2  (r_cuisin, south, cheap)    [(r_price, cheap), (r_locat, south)]   \n",
       "3  (indian, r_locat, cheap)  [(r_price, cheap), (r_cuisin, indian)]   \n",
       "4  (thai, r_locat, r_price)                      [(r_cuisin, thai)]   \n",
       "\n",
       "                  predicted  \n",
       "0   (r_cuisin, west, moder)  \n",
       "1  (r_cuisin, north, cheap)  \n",
       "2  (r_cuisin, south, cheap)  \n",
       "3  (indian, r_locat, cheap)  \n",
       "4  (thai, r_locat, r_price)  "
      ]
     },
     "execution_count": 170,
     "metadata": {},
     "output_type": "execute_result"
    }
   ],
   "source": [
    "test[:5]"
   ]
  },
  {
   "cell_type": "code",
   "execution_count": 171,
   "metadata": {
    "collapsed": false
   },
   "outputs": [],
   "source": [
    "base_predicted = [w for frame in test.predicted for w in frame]\n",
    "base_actual = [w for frame in test.frame for w in frame]"
   ]
  },
  {
   "cell_type": "code",
   "execution_count": 172,
   "metadata": {
    "collapsed": false
   },
   "outputs": [
    {
     "data": {
      "text/plain": [
       "0.96954732510288066"
      ]
     },
     "execution_count": 172,
     "metadata": {},
     "output_type": "execute_result"
    }
   ],
   "source": [
    "accuracy_score(base_actual, base_predicted)"
   ]
  },
  {
   "cell_type": "code",
   "execution_count": null,
   "metadata": {
    "collapsed": true
   },
   "outputs": [],
   "source": []
  }
 ],
 "metadata": {
  "kernelspec": {
   "display_name": "Python 3",
   "language": "python",
   "name": "python3"
  },
  "language_info": {
   "codemirror_mode": {
    "name": "ipython",
    "version": 3
   },
   "file_extension": ".py",
   "mimetype": "text/x-python",
   "name": "python",
   "nbconvert_exporter": "python",
   "pygments_lexer": "ipython3",
   "version": "3.6.0"
  }
 },
 "nbformat": 4,
 "nbformat_minor": 2
}
