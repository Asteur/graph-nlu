{
 "cells": [
  {
   "cell_type": "markdown",
   "metadata": {},
   "source": [
    "# Restaurant\n",
    "\n",
    "## Import"
   ]
  },
  {
   "cell_type": "code",
   "execution_count": 61,
   "metadata": {
    "collapsed": true
   },
   "outputs": [],
   "source": [
    "import pandas as pd\n",
    "import numpy as np\n",
    "import nltk\n",
    "from sklearn.metrics import accuracy_score\n",
    "from neo4j.v1 import GraphDatabase, basic_auth\n",
    "from collections import defaultdict"
   ]
  },
  {
   "cell_type": "code",
   "execution_count": 2,
   "metadata": {
    "collapsed": false
   },
   "outputs": [
    {
     "data": {
      "text/plain": [
       "(414, 52256)"
      ]
     },
     "execution_count": 2,
     "metadata": {},
     "output_type": "execute_result"
    }
   ],
   "source": [
    "refs_utts = pd.read_pickle('utts_refs.pkl')\n",
    "props = pd.read_pickle('restaurants_props.pkl')\n",
    "len(refs_utts), len(props)"
   ]
  },
  {
   "cell_type": "code",
   "execution_count": 206,
   "metadata": {
    "collapsed": false
   },
   "outputs": [
    {
     "data": {
      "text/html": [
       "<div>\n",
       "<table border=\"1\" class=\"dataframe\">\n",
       "  <thead>\n",
       "    <tr style=\"text-align: right;\">\n",
       "      <th></th>\n",
       "      <th>text</th>\n",
       "      <th>bot</th>\n",
       "      <th>o</th>\n",
       "      <th>ind</th>\n",
       "      <th>mask</th>\n",
       "      <th>gid</th>\n",
       "      <th>target</th>\n",
       "    </tr>\n",
       "  </thead>\n",
       "  <tbody>\n",
       "    <tr>\n",
       "      <th>0</th>\n",
       "      <td>[i, want, a, moderately, priced, restaurant, i...</td>\n",
       "      <td>api_call R_cuisine west moderate</td>\n",
       "      <td>trn</td>\n",
       "      <td>2</td>\n",
       "      <td>True</td>\n",
       "      <td>2</td>\n",
       "      <td>prezzo</td>\n",
       "    </tr>\n",
       "    <tr>\n",
       "      <th>2</th>\n",
       "      <td>[cheap, restaurant, in, the, north, part, of, ...</td>\n",
       "      <td>api_call R_cuisine north cheap</td>\n",
       "      <td>trn</td>\n",
       "      <td>2</td>\n",
       "      <td>True</td>\n",
       "      <td>11</td>\n",
       "      <td>da_vinci_pizzeria</td>\n",
       "    </tr>\n",
       "    <tr>\n",
       "      <th>3</th>\n",
       "      <td>[cheap, restaurant, in, the, south, part, of, ...</td>\n",
       "      <td>api_call R_cuisine south cheap</td>\n",
       "      <td>trn</td>\n",
       "      <td>2</td>\n",
       "      <td>True</td>\n",
       "      <td>12</td>\n",
       "      <td>the_lucky_star</td>\n",
       "    </tr>\n",
       "    <tr>\n",
       "      <th>4</th>\n",
       "      <td>[cheap, restaurant, serving, indian, food]</td>\n",
       "      <td>api_call indian R_location cheap</td>\n",
       "      <td>trn</td>\n",
       "      <td>2</td>\n",
       "      <td>True</td>\n",
       "      <td>15</td>\n",
       "      <td>the_gandhi</td>\n",
       "    </tr>\n",
       "    <tr>\n",
       "      <th>5</th>\n",
       "      <td>[thai, food]</td>\n",
       "      <td>api_call thai R_location R_price</td>\n",
       "      <td>trn</td>\n",
       "      <td>2</td>\n",
       "      <td>True</td>\n",
       "      <td>22</td>\n",
       "      <td>bangkok_city</td>\n",
       "    </tr>\n",
       "  </tbody>\n",
       "</table>\n",
       "</div>"
      ],
      "text/plain": [
       "                                                text  \\\n",
       "0  [i, want, a, moderately, priced, restaurant, i...   \n",
       "2  [cheap, restaurant, in, the, north, part, of, ...   \n",
       "3  [cheap, restaurant, in, the, south, part, of, ...   \n",
       "4         [cheap, restaurant, serving, indian, food]   \n",
       "5                                       [thai, food]   \n",
       "\n",
       "                                bot    o ind  mask  gid             target  \n",
       "0  api_call R_cuisine west moderate  trn   2  True    2             prezzo  \n",
       "2    api_call R_cuisine north cheap  trn   2  True   11  da_vinci_pizzeria  \n",
       "3    api_call R_cuisine south cheap  trn   2  True   12     the_lucky_star  \n",
       "4  api_call indian R_location cheap  trn   2  True   15         the_gandhi  \n",
       "5  api_call thai R_location R_price  trn   2  True   22       bangkok_city  "
      ]
     },
     "execution_count": 206,
     "metadata": {},
     "output_type": "execute_result"
    }
   ],
   "source": [
    "refs_utts[:5]"
   ]
  },
  {
   "cell_type": "code",
   "execution_count": 4,
   "metadata": {
    "collapsed": false
   },
   "outputs": [
    {
     "data": {
      "text/html": [
       "<div>\n",
       "<table border=\"1\" class=\"dataframe\">\n",
       "  <thead>\n",
       "    <tr style=\"text-align: right;\">\n",
       "      <th></th>\n",
       "      <th>rname</th>\n",
       "      <th>attr_key</th>\n",
       "      <th>attr_value</th>\n",
       "    </tr>\n",
       "  </thead>\n",
       "  <tbody>\n",
       "    <tr>\n",
       "      <th>3</th>\n",
       "      <td>saint_johns_chop_house</td>\n",
       "      <td>R_cuisine</td>\n",
       "      <td>british</td>\n",
       "    </tr>\n",
       "    <tr>\n",
       "      <th>4</th>\n",
       "      <td>saint_johns_chop_house</td>\n",
       "      <td>R_location</td>\n",
       "      <td>west</td>\n",
       "    </tr>\n",
       "    <tr>\n",
       "      <th>7</th>\n",
       "      <td>saint_johns_chop_house</td>\n",
       "      <td>R_price</td>\n",
       "      <td>moderate</td>\n",
       "    </tr>\n",
       "    <tr>\n",
       "      <th>10</th>\n",
       "      <td>prezzo</td>\n",
       "      <td>R_cuisine</td>\n",
       "      <td>italian</td>\n",
       "    </tr>\n",
       "    <tr>\n",
       "      <th>11</th>\n",
       "      <td>prezzo</td>\n",
       "      <td>R_location</td>\n",
       "      <td>west</td>\n",
       "    </tr>\n",
       "  </tbody>\n",
       "</table>\n",
       "</div>"
      ],
      "text/plain": [
       "                     rname    attr_key attr_value\n",
       "3   saint_johns_chop_house   R_cuisine    british\n",
       "4   saint_johns_chop_house  R_location       west\n",
       "7   saint_johns_chop_house     R_price   moderate\n",
       "10                  prezzo   R_cuisine    italian\n",
       "11                  prezzo  R_location       west"
      ]
     },
     "execution_count": 4,
     "metadata": {},
     "output_type": "execute_result"
    }
   ],
   "source": [
    "props[:5]"
   ]
  },
  {
   "cell_type": "markdown",
   "metadata": {},
   "source": [
    "## Process Text"
   ]
  },
  {
   "cell_type": "code",
   "execution_count": 5,
   "metadata": {
    "collapsed": true
   },
   "outputs": [],
   "source": [
    "stemmer = nltk.stem.snowball.EnglishStemmer()\n",
    "\n",
    "def stem(sentence):\n",
    "    return [stemmer.stem(w) for w in sentence]"
   ]
  },
  {
   "cell_type": "code",
   "execution_count": 6,
   "metadata": {
    "collapsed": false
   },
   "outputs": [
    {
     "data": {
      "text/plain": [
       "414"
      ]
     },
     "execution_count": 6,
     "metadata": {},
     "output_type": "execute_result"
    }
   ],
   "source": [
    "test = pd.DataFrame()\n",
    "test['text'] = [stem(s) for s in refs_utts.text]\n",
    "test['frame'] = [tuple(stem(f.split()[1:])) for f in refs_utts.bot]\n",
    "len(test)"
   ]
  },
  {
   "cell_type": "code",
   "execution_count": 7,
   "metadata": {
    "collapsed": false
   },
   "outputs": [
    {
     "data": {
      "text/plain": [
       "405"
      ]
     },
     "execution_count": 7,
     "metadata": {},
     "output_type": "execute_result"
    }
   ],
   "source": [
    "# Remove poorly formatted frames\n",
    "test = test[test.frame.map(len) == 3]\n",
    "len(test)"
   ]
  },
  {
   "cell_type": "code",
   "execution_count": 8,
   "metadata": {
    "collapsed": false
   },
   "outputs": [
    {
     "data": {
      "text/html": [
       "<div>\n",
       "<table border=\"1\" class=\"dataframe\">\n",
       "  <thead>\n",
       "    <tr style=\"text-align: right;\">\n",
       "      <th></th>\n",
       "      <th>text</th>\n",
       "      <th>frame</th>\n",
       "    </tr>\n",
       "  </thead>\n",
       "  <tbody>\n",
       "    <tr>\n",
       "      <th>0</th>\n",
       "      <td>[i, want, a, moder, price, restaur, in, the, w...</td>\n",
       "      <td>(r_cuisin, west, moder)</td>\n",
       "    </tr>\n",
       "    <tr>\n",
       "      <th>1</th>\n",
       "      <td>[cheap, restaur, in, the, north, part, of, town]</td>\n",
       "      <td>(r_cuisin, north, cheap)</td>\n",
       "    </tr>\n",
       "    <tr>\n",
       "      <th>2</th>\n",
       "      <td>[cheap, restaur, in, the, south, part, of, town]</td>\n",
       "      <td>(r_cuisin, south, cheap)</td>\n",
       "    </tr>\n",
       "    <tr>\n",
       "      <th>3</th>\n",
       "      <td>[cheap, restaur, serv, indian, food]</td>\n",
       "      <td>(indian, r_locat, cheap)</td>\n",
       "    </tr>\n",
       "    <tr>\n",
       "      <th>4</th>\n",
       "      <td>[thai, food]</td>\n",
       "      <td>(thai, r_locat, r_price)</td>\n",
       "    </tr>\n",
       "  </tbody>\n",
       "</table>\n",
       "</div>"
      ],
      "text/plain": [
       "                                                text                     frame\n",
       "0  [i, want, a, moder, price, restaur, in, the, w...   (r_cuisin, west, moder)\n",
       "1   [cheap, restaur, in, the, north, part, of, town]  (r_cuisin, north, cheap)\n",
       "2   [cheap, restaur, in, the, south, part, of, town]  (r_cuisin, south, cheap)\n",
       "3               [cheap, restaur, serv, indian, food]  (indian, r_locat, cheap)\n",
       "4                                       [thai, food]  (thai, r_locat, r_price)"
      ]
     },
     "execution_count": 8,
     "metadata": {},
     "output_type": "execute_result"
    }
   ],
   "source": [
    "test[:5]"
   ]
  },
  {
   "cell_type": "code",
   "execution_count": 9,
   "metadata": {
    "collapsed": true
   },
   "outputs": [],
   "source": [
    "knowledge = pd.DataFrame()\n",
    "knowledge['restaurant'] = props.rname.copy()\n",
    "knowledge['key'] = [stemmer.stem(s) for s in props.attr_key]\n",
    "knowledge['value'] = [stemmer.stem(s) for s in props.attr_value]"
   ]
  },
  {
   "cell_type": "code",
   "execution_count": 10,
   "metadata": {
    "collapsed": false
   },
   "outputs": [
    {
     "data": {
      "text/html": [
       "<div>\n",
       "<table border=\"1\" class=\"dataframe\">\n",
       "  <thead>\n",
       "    <tr style=\"text-align: right;\">\n",
       "      <th></th>\n",
       "      <th>restaurant</th>\n",
       "      <th>key</th>\n",
       "      <th>value</th>\n",
       "    </tr>\n",
       "  </thead>\n",
       "  <tbody>\n",
       "    <tr>\n",
       "      <th>3</th>\n",
       "      <td>saint_johns_chop_house</td>\n",
       "      <td>r_cuisin</td>\n",
       "      <td>british</td>\n",
       "    </tr>\n",
       "    <tr>\n",
       "      <th>4</th>\n",
       "      <td>saint_johns_chop_house</td>\n",
       "      <td>r_locat</td>\n",
       "      <td>west</td>\n",
       "    </tr>\n",
       "    <tr>\n",
       "      <th>7</th>\n",
       "      <td>saint_johns_chop_house</td>\n",
       "      <td>r_price</td>\n",
       "      <td>moder</td>\n",
       "    </tr>\n",
       "    <tr>\n",
       "      <th>10</th>\n",
       "      <td>prezzo</td>\n",
       "      <td>r_cuisin</td>\n",
       "      <td>italian</td>\n",
       "    </tr>\n",
       "    <tr>\n",
       "      <th>11</th>\n",
       "      <td>prezzo</td>\n",
       "      <td>r_locat</td>\n",
       "      <td>west</td>\n",
       "    </tr>\n",
       "  </tbody>\n",
       "</table>\n",
       "</div>"
      ],
      "text/plain": [
       "                restaurant       key    value\n",
       "3   saint_johns_chop_house  r_cuisin  british\n",
       "4   saint_johns_chop_house   r_locat     west\n",
       "7   saint_johns_chop_house   r_price    moder\n",
       "10                  prezzo  r_cuisin  italian\n",
       "11                  prezzo   r_locat     west"
      ]
     },
     "execution_count": 10,
     "metadata": {},
     "output_type": "execute_result"
    }
   ],
   "source": [
    "knowledge[:5]"
   ]
  },
  {
   "cell_type": "code",
   "execution_count": 11,
   "metadata": {
    "collapsed": false
   },
   "outputs": [],
   "source": [
    "# A dictionary of keys to the list of values they can take\n",
    "# In this instance, keys form mutually exclusive lists of values\n",
    "types = knowledge[['key', 'value']] \\\n",
    "    .groupby('key') \\\n",
    "    .aggregate(lambda x: tuple(set(x))) \\\n",
    "    .reset_index() \\\n",
    "    .set_index('key') \\\n",
    "    .value \\\n",
    "    .to_dict()"
   ]
  },
  {
   "cell_type": "code",
   "execution_count": 12,
   "metadata": {
    "collapsed": false
   },
   "outputs": [
    {
     "data": {
      "text/plain": [
       "('asian_orient', 'vietnames', 'lebanes', 'african', 'thai')"
      ]
     },
     "execution_count": 12,
     "metadata": {},
     "output_type": "execute_result"
    }
   ],
   "source": [
    "types['r_cuisin'][:5]"
   ]
  },
  {
   "cell_type": "code",
   "execution_count": 13,
   "metadata": {
    "collapsed": false
   },
   "outputs": [
    {
     "data": {
      "text/plain": [
       "('centr', 'south', 'west', 'east', 'north')"
      ]
     },
     "execution_count": 13,
     "metadata": {},
     "output_type": "execute_result"
    }
   ],
   "source": [
    "types['r_locat']"
   ]
  },
  {
   "cell_type": "code",
   "execution_count": 14,
   "metadata": {
    "collapsed": false
   },
   "outputs": [
    {
     "data": {
      "text/plain": [
       "('expens', 'moder', 'cheap')"
      ]
     },
     "execution_count": 14,
     "metadata": {},
     "output_type": "execute_result"
    }
   ],
   "source": [
    "types['r_price']"
   ]
  },
  {
   "cell_type": "markdown",
   "metadata": {},
   "source": [
    "## Create Knowledge Graph"
   ]
  },
  {
   "cell_type": "code",
   "execution_count": 15,
   "metadata": {
    "collapsed": true
   },
   "outputs": [],
   "source": [
    "# Create a neo4j session\n",
    "driver = GraphDatabase.driver('bolt://localhost:7687', auth=basic_auth('neo4j', 'neo4j'))"
   ]
  },
  {
   "cell_type": "code",
   "execution_count": 16,
   "metadata": {
    "collapsed": true
   },
   "outputs": [],
   "source": [
    "# WARNING: This will clear the database when run!\n",
    "def reset_db():\n",
    "    session = driver.session()\n",
    "    session.run('MATCH (n) DETACH DELETE n')"
   ]
  },
  {
   "cell_type": "code",
   "execution_count": 17,
   "metadata": {
    "collapsed": false
   },
   "outputs": [],
   "source": [
    "reset_db()"
   ]
  },
  {
   "cell_type": "code",
   "execution_count": 18,
   "metadata": {
    "collapsed": false
   },
   "outputs": [],
   "source": [
    "session = driver.session()\n",
    "\n",
    "for i,row in knowledge.iterrows():\n",
    "    subject, relation, obj = row.restaurant, row.key, row.value\n",
    "    session.run('''\n",
    "        MERGE (s:SUBJECT {name: $subject}) \n",
    "        MERGE (o:OBJECT  {name: $obj}) \n",
    "        MERGE (s)-[r:RELATION {name: $relation}]->(o)\n",
    "    ''', { \n",
    "        'subject': subject,\n",
    "        'relation': relation,\n",
    "        'obj': obj\n",
    "    })"
   ]
  },
  {
   "cell_type": "markdown",
   "metadata": {},
   "source": [
    "## Test\n",
    "#### Baseline\n",
    "The baseline accuracy is the slot accuracy, calculated by the assumption of not knowing any frame values for any of the sentences."
   ]
  },
  {
   "cell_type": "code",
   "execution_count": 19,
   "metadata": {
    "collapsed": false
   },
   "outputs": [
    {
     "data": {
      "text/plain": [
       "('r_cuisin', 'r_locat', 'r_price')"
      ]
     },
     "execution_count": 19,
     "metadata": {},
     "output_type": "execute_result"
    }
   ],
   "source": [
    "dont_know = tuple(types.keys())\n",
    "dont_know"
   ]
  },
  {
   "cell_type": "code",
   "execution_count": 20,
   "metadata": {
    "collapsed": false
   },
   "outputs": [],
   "source": [
    "base_predicted = list(dont_know) * len(test)\n",
    "base_actual = [w for frame in test.frame for w in frame]"
   ]
  },
  {
   "cell_type": "code",
   "execution_count": 21,
   "metadata": {
    "collapsed": false
   },
   "outputs": [
    {
     "data": {
      "text/plain": [
       "0.45267489711934156"
      ]
     },
     "execution_count": 21,
     "metadata": {},
     "output_type": "execute_result"
    }
   ],
   "source": [
    "accuracy_score(base_actual, base_predicted)"
   ]
  },
  {
   "cell_type": "markdown",
   "metadata": {},
   "source": [
    "#### Accuracy"
   ]
  },
  {
   "cell_type": "code",
   "execution_count": 91,
   "metadata": {
    "collapsed": false
   },
   "outputs": [],
   "source": [
    "# Cache properties from DB\n",
    "# Running this query will obtain all properties at this point in time\n",
    "def get_properties():\n",
    "    session = driver.session()\n",
    "    return session.run('''\n",
    "        MATCH ()-[r:RELATION]->(o:OBJECT) \n",
    "        RETURN collect(distinct o.name) AS properties\n",
    "    ''').single()['properties']"
   ]
  },
  {
   "cell_type": "code",
   "execution_count": 92,
   "metadata": {
    "collapsed": true
   },
   "outputs": [],
   "source": [
    "# def get_types():\n",
    "#     session = driver.session()\n",
    "#     result = session.run('''\n",
    "#         MATCH ()-[r:RELATION]->(o:OBJECT) \n",
    "#         RETURN collect(distinct [r.name, o.name]) AS pair\n",
    "#     ''').single()[0]\n",
    "    \n",
    "#     g_types = defaultdict(lambda: [])\n",
    "#     for k,v in result:\n",
    "#         g_types[k].append(v)\n",
    "#     return g_types"
   ]
  },
  {
   "cell_type": "code",
   "execution_count": 115,
   "metadata": {
    "collapsed": false
   },
   "outputs": [],
   "source": [
    "properties = set(get_properties())"
   ]
  },
  {
   "cell_type": "code",
   "execution_count": 116,
   "metadata": {
    "collapsed": true
   },
   "outputs": [],
   "source": [
    "# Hotword listener\n",
    "def is_hotword(word):\n",
    "    return word in properties"
   ]
  },
  {
   "cell_type": "code",
   "execution_count": 117,
   "metadata": {
    "collapsed": false
   },
   "outputs": [
    {
     "data": {
      "text/plain": [
       "(True, False)"
      ]
     },
     "execution_count": 117,
     "metadata": {},
     "output_type": "execute_result"
    }
   ],
   "source": [
    "is_hotword('british'), is_hotword('python')"
   ]
  },
  {
   "cell_type": "code",
   "execution_count": 122,
   "metadata": {
    "collapsed": true
   },
   "outputs": [],
   "source": [
    "# Issue DB queries\n",
    "def find_slot(prop):\n",
    "    return session.run('''\n",
    "        MATCH (s:SUBJECT)-[r:RELATION]->(o:OBJECT {name:$name}) \n",
    "        RETURN collect(distinct [r.name, o.name]) AS properties\n",
    "    ''', {\n",
    "        'name': prop\n",
    "    })\n",
    "\n",
    "def extract(result):\n",
    "    return result.single()['properties'][0]"
   ]
  },
  {
   "cell_type": "code",
   "execution_count": 123,
   "metadata": {
    "collapsed": false
   },
   "outputs": [
    {
     "data": {
      "text/plain": [
       "['r_locat', 'west']"
      ]
     },
     "execution_count": 123,
     "metadata": {},
     "output_type": "execute_result"
    }
   ],
   "source": [
    "session = driver.session()\n",
    "extract(find_slot('west'))"
   ]
  },
  {
   "cell_type": "code",
   "execution_count": 183,
   "metadata": {
    "collapsed": false
   },
   "outputs": [],
   "source": [
    "session = driver.session()\n",
    "all_slots = [[find_slot(word) for word in sentence if is_hotword(word)] for sentence in test.text]\n",
    "extracted_slots = [[tuple(extract(slot)) for slot in slots] for slots in all_slots]\n",
    "test['slots'] = extracted_slots"
   ]
  },
  {
   "cell_type": "code",
   "execution_count": 184,
   "metadata": {
    "collapsed": true
   },
   "outputs": [],
   "source": [
    "def to_frame(slots):\n",
    "    frame = list(dont_know)\n",
    "    s = dict(slots)\n",
    "    \n",
    "    for i,x in enumerate(frame):\n",
    "        if x in s.keys():\n",
    "            frame[i] = s[x]\n",
    "    \n",
    "    return tuple(frame)"
   ]
  },
  {
   "cell_type": "code",
   "execution_count": 185,
   "metadata": {
    "collapsed": false
   },
   "outputs": [],
   "source": [
    "test['predicted'] = [to_frame(slot) for slot in test.slots]"
   ]
  },
  {
   "cell_type": "code",
   "execution_count": 186,
   "metadata": {
    "collapsed": false
   },
   "outputs": [
    {
     "data": {
      "text/html": [
       "<div>\n",
       "<table border=\"1\" class=\"dataframe\">\n",
       "  <thead>\n",
       "    <tr style=\"text-align: right;\">\n",
       "      <th></th>\n",
       "      <th>text</th>\n",
       "      <th>frame</th>\n",
       "      <th>slots</th>\n",
       "      <th>predicted</th>\n",
       "    </tr>\n",
       "  </thead>\n",
       "  <tbody>\n",
       "    <tr>\n",
       "      <th>0</th>\n",
       "      <td>[i, want, a, moder, price, restaur, in, the, w...</td>\n",
       "      <td>(r_cuisin, west, moder)</td>\n",
       "      <td>[(r_price, moder), (r_locat, west)]</td>\n",
       "      <td>(r_cuisin, west, moder)</td>\n",
       "    </tr>\n",
       "    <tr>\n",
       "      <th>1</th>\n",
       "      <td>[cheap, restaur, in, the, north, part, of, town]</td>\n",
       "      <td>(r_cuisin, north, cheap)</td>\n",
       "      <td>[(r_price, cheap), (r_locat, north)]</td>\n",
       "      <td>(r_cuisin, north, cheap)</td>\n",
       "    </tr>\n",
       "    <tr>\n",
       "      <th>2</th>\n",
       "      <td>[cheap, restaur, in, the, south, part, of, town]</td>\n",
       "      <td>(r_cuisin, south, cheap)</td>\n",
       "      <td>[(r_price, cheap), (r_locat, south)]</td>\n",
       "      <td>(r_cuisin, south, cheap)</td>\n",
       "    </tr>\n",
       "    <tr>\n",
       "      <th>3</th>\n",
       "      <td>[cheap, restaur, serv, indian, food]</td>\n",
       "      <td>(indian, r_locat, cheap)</td>\n",
       "      <td>[(r_price, cheap), (r_cuisin, indian)]</td>\n",
       "      <td>(indian, r_locat, cheap)</td>\n",
       "    </tr>\n",
       "    <tr>\n",
       "      <th>4</th>\n",
       "      <td>[thai, food]</td>\n",
       "      <td>(thai, r_locat, r_price)</td>\n",
       "      <td>[(r_cuisin, thai)]</td>\n",
       "      <td>(thai, r_locat, r_price)</td>\n",
       "    </tr>\n",
       "  </tbody>\n",
       "</table>\n",
       "</div>"
      ],
      "text/plain": [
       "                                                text  \\\n",
       "0  [i, want, a, moder, price, restaur, in, the, w...   \n",
       "1   [cheap, restaur, in, the, north, part, of, town]   \n",
       "2   [cheap, restaur, in, the, south, part, of, town]   \n",
       "3               [cheap, restaur, serv, indian, food]   \n",
       "4                                       [thai, food]   \n",
       "\n",
       "                      frame                                   slots  \\\n",
       "0   (r_cuisin, west, moder)     [(r_price, moder), (r_locat, west)]   \n",
       "1  (r_cuisin, north, cheap)    [(r_price, cheap), (r_locat, north)]   \n",
       "2  (r_cuisin, south, cheap)    [(r_price, cheap), (r_locat, south)]   \n",
       "3  (indian, r_locat, cheap)  [(r_price, cheap), (r_cuisin, indian)]   \n",
       "4  (thai, r_locat, r_price)                      [(r_cuisin, thai)]   \n",
       "\n",
       "                  predicted  \n",
       "0   (r_cuisin, west, moder)  \n",
       "1  (r_cuisin, north, cheap)  \n",
       "2  (r_cuisin, south, cheap)  \n",
       "3  (indian, r_locat, cheap)  \n",
       "4  (thai, r_locat, r_price)  "
      ]
     },
     "execution_count": 186,
     "metadata": {},
     "output_type": "execute_result"
    }
   ],
   "source": [
    "test[:5]"
   ]
  },
  {
   "cell_type": "code",
   "execution_count": 173,
   "metadata": {
    "collapsed": false
   },
   "outputs": [],
   "source": [
    "predicted = [w for frame in test.predicted for w in frame]\n",
    "actual = [w for frame in test.frame for w in frame]"
   ]
  },
  {
   "cell_type": "code",
   "execution_count": 187,
   "metadata": {
    "collapsed": false
   },
   "outputs": [
    {
     "data": {
      "text/plain": [
       "0.96954732510288066"
      ]
     },
     "execution_count": 187,
     "metadata": {},
     "output_type": "execute_result"
    }
   ],
   "source": [
    "accuracy_score(actual, predicted)"
   ]
  },
  {
   "cell_type": "code",
   "execution_count": 193,
   "metadata": {
    "collapsed": false
   },
   "outputs": [
    {
     "name": "stdout",
     "output_type": "stream",
     "text": [
      "         |      r                                                                |\n",
      "         |      _      r             r                                           |\n",
      "         |      c      _             _                                         e |\n",
      "         |      u      l      c      p      m             n             s      x |\n",
      "         |      i      o      h      r      o      e      o      w      o      p |\n",
      "         |      s      c      e      i      d      a      r      e      u      e |\n",
      "         |      i      a      a      c      e      s      t      s      t      n |\n",
      "         |      n      t      p      e      r      t      h      t      h      s |\n",
      "---------+-----------------------------------------------------------------------+\n",
      "r_cuisin | <18.9%>     .      .      .      .      .      .      .      .      . |\n",
      " r_locat |      . <14.7%>     .      .      .      .      .   0.1%   0.6%      . |\n",
      "   cheap |      .      . <11.9%>  0.2%      .      .      .      .      .      . |\n",
      " r_price |      .      .   0.1% <10.5%>  0.2%      .      .      .      .   0.1% |\n",
      "   moder |      .      .      .   0.2%  <8.2%>     .      .      .      .      . |\n",
      "    east |      .      .      .      .      .  <6.4%>     .      .      .      . |\n",
      "   north |      .      .      .      .      .      .  <5.1%>     .      .      . |\n",
      "    west |      .   0.2%      .      .      .      .      .  <3.3%>     .      . |\n",
      "   south |      .      .      .      .      .      .      .      .  <3.0%>     . |\n",
      "  expens |      .      .      .      .      .      .      .      .      .  <1.9%>|\n",
      "---------+-----------------------------------------------------------------------+\n",
      "(row = reference; col = test)\n",
      "\n"
     ]
    }
   ],
   "source": [
    "cm = nltk.ConfusionMatrix(actual, predicted)\n",
    "print(cm.pretty_format(sort_by_count=True, show_percents=True, truncate=10))"
   ]
  },
  {
   "cell_type": "code",
   "execution_count": 207,
   "metadata": {
    "collapsed": false
   },
   "outputs": [
    {
     "data": {
      "text/html": [
       "<div>\n",
       "<table border=\"1\" class=\"dataframe\">\n",
       "  <thead>\n",
       "    <tr style=\"text-align: right;\">\n",
       "      <th></th>\n",
       "      <th>text</th>\n",
       "      <th>frame</th>\n",
       "      <th>slots</th>\n",
       "      <th>predicted</th>\n",
       "    </tr>\n",
       "  </thead>\n",
       "  <tbody>\n",
       "    <tr>\n",
       "      <th>1</th>\n",
       "      <td>[cheap, restaur, in, the, north, part, of, town]</td>\n",
       "      <td>(r_cuisin, north, cheap)</td>\n",
       "      <td>[(r_price, cheap), (r_locat, north)]</td>\n",
       "      <td>(r_cuisin, north, cheap)</td>\n",
       "    </tr>\n",
       "    <tr>\n",
       "      <th>2</th>\n",
       "      <td>[cheap, restaur, in, the, south, part, of, town]</td>\n",
       "      <td>(r_cuisin, south, cheap)</td>\n",
       "      <td>[(r_price, cheap), (r_locat, south)]</td>\n",
       "      <td>(r_cuisin, south, cheap)</td>\n",
       "    </tr>\n",
       "    <tr>\n",
       "      <th>3</th>\n",
       "      <td>[cheap, restaur, serv, indian, food]</td>\n",
       "      <td>(indian, r_locat, cheap)</td>\n",
       "      <td>[(r_price, cheap), (r_cuisin, indian)]</td>\n",
       "      <td>(indian, r_locat, cheap)</td>\n",
       "    </tr>\n",
       "    <tr>\n",
       "      <th>7</th>\n",
       "      <td>[im, look, for, a, cheap, restaur, in, the, no...</td>\n",
       "      <td>(r_cuisin, north, cheap)</td>\n",
       "      <td>[(r_price, cheap), (r_locat, north)]</td>\n",
       "      <td>(r_cuisin, north, cheap)</td>\n",
       "    </tr>\n",
       "    <tr>\n",
       "      <th>10</th>\n",
       "      <td>[cheap, restaur]</td>\n",
       "      <td>(r_cuisin, r_locat, cheap)</td>\n",
       "      <td>[(r_price, cheap)]</td>\n",
       "      <td>(r_cuisin, r_locat, cheap)</td>\n",
       "    </tr>\n",
       "    <tr>\n",
       "      <th>12</th>\n",
       "      <td>[i, want, a, cheap, restaur, in, the, west, pa...</td>\n",
       "      <td>(r_cuisin, west, cheap)</td>\n",
       "      <td>[(r_price, cheap), (r_locat, west)]</td>\n",
       "      <td>(r_cuisin, west, cheap)</td>\n",
       "    </tr>\n",
       "    <tr>\n",
       "      <th>14</th>\n",
       "      <td>[i, am, look, for, a, cheap, restaur, in, the,...</td>\n",
       "      <td>(r_cuisin, east, cheap)</td>\n",
       "      <td>[(r_price, cheap), (r_locat, east)]</td>\n",
       "      <td>(r_cuisin, east, cheap)</td>\n",
       "    </tr>\n",
       "    <tr>\n",
       "      <th>15</th>\n",
       "      <td>[im, look, for, a, cheap, restaur, serv, inter...</td>\n",
       "      <td>(intern, r_locat, cheap)</td>\n",
       "      <td>[(r_price, cheap), (r_cuisin, intern)]</td>\n",
       "      <td>(intern, r_locat, cheap)</td>\n",
       "    </tr>\n",
       "    <tr>\n",
       "      <th>17</th>\n",
       "      <td>[look, for, a, cheap, restaur, in, the, south,...</td>\n",
       "      <td>(r_cuisin, south, cheap)</td>\n",
       "      <td>[(r_price, cheap), (r_locat, south)]</td>\n",
       "      <td>(r_cuisin, south, cheap)</td>\n",
       "    </tr>\n",
       "    <tr>\n",
       "      <th>20</th>\n",
       "      <td>[look, for, someth, cheap, in, the, north, sid...</td>\n",
       "      <td>(r_cuisin, north, cheap)</td>\n",
       "      <td>[(r_price, cheap), (r_locat, north)]</td>\n",
       "      <td>(r_cuisin, north, cheap)</td>\n",
       "    </tr>\n",
       "    <tr>\n",
       "      <th>33</th>\n",
       "      <td>[im, look, for, a, cheap, restaur, in, the, so...</td>\n",
       "      <td>(r_cuisin, r_locat, cheap)</td>\n",
       "      <td>[(r_price, cheap), (r_locat, south)]</td>\n",
       "      <td>(r_cuisin, south, cheap)</td>\n",
       "    </tr>\n",
       "    <tr>\n",
       "      <th>40</th>\n",
       "      <td>[i, want, a, cheap, restaur, in, the, south, p...</td>\n",
       "      <td>(r_cuisin, r_locat, cheap)</td>\n",
       "      <td>[(r_price, cheap), (r_locat, south)]</td>\n",
       "      <td>(r_cuisin, south, cheap)</td>\n",
       "    </tr>\n",
       "    <tr>\n",
       "      <th>44</th>\n",
       "      <td>[i, need, a, cheap, restaur, in, the, south, p...</td>\n",
       "      <td>(r_cuisin, south, cheap)</td>\n",
       "      <td>[(r_price, cheap), (r_locat, south)]</td>\n",
       "      <td>(r_cuisin, south, cheap)</td>\n",
       "    </tr>\n",
       "    <tr>\n",
       "      <th>46</th>\n",
       "      <td>[i, want, a, cheap, restaur, in, the, east, pa...</td>\n",
       "      <td>(r_cuisin, east, cheap)</td>\n",
       "      <td>[(r_price, cheap), (r_locat, east)]</td>\n",
       "      <td>(r_cuisin, east, cheap)</td>\n",
       "    </tr>\n",
       "    <tr>\n",
       "      <th>57</th>\n",
       "      <td>[breath, id, like, a, cheap, restaur, in, the,...</td>\n",
       "      <td>(r_cuisin, south, cheap)</td>\n",
       "      <td>[(r_price, cheap), (r_locat, south)]</td>\n",
       "      <td>(r_cuisin, south, cheap)</td>\n",
       "    </tr>\n",
       "    <tr>\n",
       "      <th>61</th>\n",
       "      <td>[im, look, for, a, cheap, restaur, in, the, we...</td>\n",
       "      <td>(r_cuisin, west, cheap)</td>\n",
       "      <td>[(r_price, cheap), (r_locat, west)]</td>\n",
       "      <td>(r_cuisin, west, cheap)</td>\n",
       "    </tr>\n",
       "    <tr>\n",
       "      <th>62</th>\n",
       "      <td>[i, would, like, to, find, a, cheap, restaur, ...</td>\n",
       "      <td>(r_cuisin, south, cheap)</td>\n",
       "      <td>[(r_price, cheap), (r_locat, south)]</td>\n",
       "      <td>(r_cuisin, south, cheap)</td>\n",
       "    </tr>\n",
       "    <tr>\n",
       "      <th>68</th>\n",
       "      <td>[cheap, restaur, in, the, north, part, of, town]</td>\n",
       "      <td>(r_cuisin, north, cheap)</td>\n",
       "      <td>[(r_price, cheap), (r_locat, north)]</td>\n",
       "      <td>(r_cuisin, north, cheap)</td>\n",
       "    </tr>\n",
       "    <tr>\n",
       "      <th>71</th>\n",
       "      <td>[i, would, like, a, cheap, restaur, in, the, n...</td>\n",
       "      <td>(r_cuisin, north, cheap)</td>\n",
       "      <td>[(r_price, cheap), (r_locat, north)]</td>\n",
       "      <td>(r_cuisin, north, cheap)</td>\n",
       "    </tr>\n",
       "    <tr>\n",
       "      <th>72</th>\n",
       "      <td>[i, would, like, a, cheap, restaur, in, the, w...</td>\n",
       "      <td>(r_cuisin, west, cheap)</td>\n",
       "      <td>[(r_price, cheap), (r_locat, west)]</td>\n",
       "      <td>(r_cuisin, west, cheap)</td>\n",
       "    </tr>\n",
       "    <tr>\n",
       "      <th>76</th>\n",
       "      <td>[im, look, for, a, cheap, restaur, in, the, we...</td>\n",
       "      <td>(r_cuisin, west, cheap)</td>\n",
       "      <td>[(r_price, cheap), (r_locat, west)]</td>\n",
       "      <td>(r_cuisin, west, cheap)</td>\n",
       "    </tr>\n",
       "    <tr>\n",
       "      <th>82</th>\n",
       "      <td>[im, look, for, a, cheap, restaur, in, the, so...</td>\n",
       "      <td>(r_cuisin, south, cheap)</td>\n",
       "      <td>[(r_price, cheap), (r_locat, south)]</td>\n",
       "      <td>(r_cuisin, south, cheap)</td>\n",
       "    </tr>\n",
       "    <tr>\n",
       "      <th>83</th>\n",
       "      <td>[im, look, for, a, cheap, restaur, in, the, ea...</td>\n",
       "      <td>(r_cuisin, east, cheap)</td>\n",
       "      <td>[(r_price, cheap), (r_locat, east)]</td>\n",
       "      <td>(r_cuisin, east, cheap)</td>\n",
       "    </tr>\n",
       "    <tr>\n",
       "      <th>84</th>\n",
       "      <td>[cheap, restaur, serv, spanish, food]</td>\n",
       "      <td>(spanish, r_locat, cheap)</td>\n",
       "      <td>[(r_price, cheap), (r_cuisin, spanish)]</td>\n",
       "      <td>(spanish, r_locat, cheap)</td>\n",
       "    </tr>\n",
       "    <tr>\n",
       "      <th>86</th>\n",
       "      <td>[im, look, for, a, cheap, restaur, in, the, no...</td>\n",
       "      <td>(r_cuisin, north, cheap)</td>\n",
       "      <td>[(r_price, cheap), (r_locat, north)]</td>\n",
       "      <td>(r_cuisin, north, cheap)</td>\n",
       "    </tr>\n",
       "    <tr>\n",
       "      <th>89</th>\n",
       "      <td>[im, look, for, a, cheap, restaur, in, the, we...</td>\n",
       "      <td>(r_cuisin, west, cheap)</td>\n",
       "      <td>[(r_price, cheap), (r_locat, west)]</td>\n",
       "      <td>(r_cuisin, west, cheap)</td>\n",
       "    </tr>\n",
       "    <tr>\n",
       "      <th>92</th>\n",
       "      <td>[im, look, for, a, cheap, restaur, in, the, ea...</td>\n",
       "      <td>(r_cuisin, east, cheap)</td>\n",
       "      <td>[(r_price, cheap), (r_locat, east)]</td>\n",
       "      <td>(r_cuisin, east, cheap)</td>\n",
       "    </tr>\n",
       "    <tr>\n",
       "      <th>96</th>\n",
       "      <td>[i, need, a, cheap, restaur, in, the, west, pa...</td>\n",
       "      <td>(r_cuisin, west, cheap)</td>\n",
       "      <td>[(r_price, cheap), (r_locat, west)]</td>\n",
       "      <td>(r_cuisin, west, cheap)</td>\n",
       "    </tr>\n",
       "    <tr>\n",
       "      <th>98</th>\n",
       "      <td>[im, look, for, a, cheap, restaur, in, the, no...</td>\n",
       "      <td>(r_cuisin, north, cheap)</td>\n",
       "      <td>[(r_price, cheap), (r_locat, north)]</td>\n",
       "      <td>(r_cuisin, north, cheap)</td>\n",
       "    </tr>\n",
       "    <tr>\n",
       "      <th>99</th>\n",
       "      <td>[im, look, for, a, cheap, restaur, in, the, no...</td>\n",
       "      <td>(r_cuisin, north, cheap)</td>\n",
       "      <td>[(r_price, cheap), (r_locat, north)]</td>\n",
       "      <td>(r_cuisin, north, cheap)</td>\n",
       "    </tr>\n",
       "    <tr>\n",
       "      <th>...</th>\n",
       "      <td>...</td>\n",
       "      <td>...</td>\n",
       "      <td>...</td>\n",
       "      <td>...</td>\n",
       "    </tr>\n",
       "    <tr>\n",
       "      <th>337</th>\n",
       "      <td>[look, for, a, cheap, restaur, in, the, east, ...</td>\n",
       "      <td>(r_cuisin, east, cheap)</td>\n",
       "      <td>[(r_price, cheap), (r_locat, east)]</td>\n",
       "      <td>(r_cuisin, east, cheap)</td>\n",
       "    </tr>\n",
       "    <tr>\n",
       "      <th>340</th>\n",
       "      <td>[cheap, restaur, west, part, of, town]</td>\n",
       "      <td>(r_cuisin, west, cheap)</td>\n",
       "      <td>[(r_price, cheap), (r_locat, west)]</td>\n",
       "      <td>(r_cuisin, west, cheap)</td>\n",
       "    </tr>\n",
       "    <tr>\n",
       "      <th>343</th>\n",
       "      <td>[im, look, for, a, cheap, restaur, and, it, sh...</td>\n",
       "      <td>(r_cuisin, north, cheap)</td>\n",
       "      <td>[(r_price, cheap), (r_locat, north)]</td>\n",
       "      <td>(r_cuisin, north, cheap)</td>\n",
       "    </tr>\n",
       "    <tr>\n",
       "      <th>346</th>\n",
       "      <td>[im, look, for, a, cheap, restaur, in, the, we...</td>\n",
       "      <td>(r_cuisin, west, cheap)</td>\n",
       "      <td>[(r_price, cheap), (r_locat, west)]</td>\n",
       "      <td>(r_cuisin, west, cheap)</td>\n",
       "    </tr>\n",
       "    <tr>\n",
       "      <th>350</th>\n",
       "      <td>[cheap, restaur, south, part, of, town]</td>\n",
       "      <td>(r_cuisin, south, cheap)</td>\n",
       "      <td>[(r_price, cheap), (r_locat, south)]</td>\n",
       "      <td>(r_cuisin, south, cheap)</td>\n",
       "    </tr>\n",
       "    <tr>\n",
       "      <th>351</th>\n",
       "      <td>[iam, look, for, a, cheap, restaur, and, it, s...</td>\n",
       "      <td>(r_cuisin, north, cheap)</td>\n",
       "      <td>[(r_price, cheap), (r_locat, north)]</td>\n",
       "      <td>(r_cuisin, north, cheap)</td>\n",
       "    </tr>\n",
       "    <tr>\n",
       "      <th>352</th>\n",
       "      <td>[uh, i, want, a, cheap, restaur, and, it, shou...</td>\n",
       "      <td>(r_cuisin, north, cheap)</td>\n",
       "      <td>[(r_price, cheap), (r_locat, north)]</td>\n",
       "      <td>(r_cuisin, north, cheap)</td>\n",
       "    </tr>\n",
       "    <tr>\n",
       "      <th>353</th>\n",
       "      <td>[im, look, for, a, cheap, restaur, in, the, so...</td>\n",
       "      <td>(r_cuisin, south, cheap)</td>\n",
       "      <td>[(r_price, cheap), (r_locat, south)]</td>\n",
       "      <td>(r_cuisin, south, cheap)</td>\n",
       "    </tr>\n",
       "    <tr>\n",
       "      <th>354</th>\n",
       "      <td>[i, would, like, a, cheap, restaur, in, the, s...</td>\n",
       "      <td>(r_cuisin, r_locat, cheap)</td>\n",
       "      <td>[(r_price, cheap), (r_locat, south)]</td>\n",
       "      <td>(r_cuisin, south, cheap)</td>\n",
       "    </tr>\n",
       "    <tr>\n",
       "      <th>356</th>\n",
       "      <td>[can, i, have, a, cheap, restaur, in, the, wes...</td>\n",
       "      <td>(r_cuisin, west, cheap)</td>\n",
       "      <td>[(r_price, cheap), (r_locat, west)]</td>\n",
       "      <td>(r_cuisin, west, cheap)</td>\n",
       "    </tr>\n",
       "    <tr>\n",
       "      <th>358</th>\n",
       "      <td>[i, am, look, for, a, cheap, restaur, in, the,...</td>\n",
       "      <td>(r_cuisin, west, cheap)</td>\n",
       "      <td>[(r_price, cheap), (r_locat, west)]</td>\n",
       "      <td>(r_cuisin, west, cheap)</td>\n",
       "    </tr>\n",
       "    <tr>\n",
       "      <th>360</th>\n",
       "      <td>[a, want, a, cheap, restaur, in, the, north, p...</td>\n",
       "      <td>(r_cuisin, north, cheap)</td>\n",
       "      <td>[(r_price, cheap), (r_locat, north)]</td>\n",
       "      <td>(r_cuisin, north, cheap)</td>\n",
       "    </tr>\n",
       "    <tr>\n",
       "      <th>365</th>\n",
       "      <td>[cheap, restaur, in, th, east, part, of, town]</td>\n",
       "      <td>(r_cuisin, east, cheap)</td>\n",
       "      <td>[(r_price, cheap), (r_locat, east)]</td>\n",
       "      <td>(r_cuisin, east, cheap)</td>\n",
       "    </tr>\n",
       "    <tr>\n",
       "      <th>366</th>\n",
       "      <td>[im, look, for, a, cheap, restaur, and, it, sh...</td>\n",
       "      <td>(r_cuisin, east, cheap)</td>\n",
       "      <td>[(r_price, cheap), (r_locat, east)]</td>\n",
       "      <td>(r_cuisin, east, cheap)</td>\n",
       "    </tr>\n",
       "    <tr>\n",
       "      <th>369</th>\n",
       "      <td>[cheap, restaur, in, th, east, part, of, town]</td>\n",
       "      <td>(r_cuisin, east, cheap)</td>\n",
       "      <td>[(r_price, cheap), (r_locat, east)]</td>\n",
       "      <td>(r_cuisin, east, cheap)</td>\n",
       "    </tr>\n",
       "    <tr>\n",
       "      <th>371</th>\n",
       "      <td>[cheap, restaur, in, the, east, part, of, town]</td>\n",
       "      <td>(r_cuisin, east, cheap)</td>\n",
       "      <td>[(r_price, cheap), (r_locat, east)]</td>\n",
       "      <td>(r_cuisin, east, cheap)</td>\n",
       "    </tr>\n",
       "    <tr>\n",
       "      <th>372</th>\n",
       "      <td>[im, look, for, a, cheap, restaur, in, the, ea...</td>\n",
       "      <td>(r_cuisin, east, cheap)</td>\n",
       "      <td>[(r_price, cheap), (r_locat, east)]</td>\n",
       "      <td>(r_cuisin, east, cheap)</td>\n",
       "    </tr>\n",
       "    <tr>\n",
       "      <th>374</th>\n",
       "      <td>[look, for, someth, cheap, on, the, east, part...</td>\n",
       "      <td>(r_cuisin, east, cheap)</td>\n",
       "      <td>[(r_price, cheap), (r_locat, east)]</td>\n",
       "      <td>(r_cuisin, east, cheap)</td>\n",
       "    </tr>\n",
       "    <tr>\n",
       "      <th>377</th>\n",
       "      <td>[im, look, for, a, cheap, restaur, serv, medit...</td>\n",
       "      <td>(mediterranean, r_locat, cheap)</td>\n",
       "      <td>[(r_price, cheap), (r_cuisin, mediterranean)]</td>\n",
       "      <td>(mediterranean, r_locat, cheap)</td>\n",
       "    </tr>\n",
       "    <tr>\n",
       "      <th>378</th>\n",
       "      <td>[im, look, for, a, cheap, restaur, in, the, so...</td>\n",
       "      <td>(r_cuisin, south, cheap)</td>\n",
       "      <td>[(r_price, cheap), (r_locat, south)]</td>\n",
       "      <td>(r_cuisin, south, cheap)</td>\n",
       "    </tr>\n",
       "    <tr>\n",
       "      <th>384</th>\n",
       "      <td>[im, look, for, a, cheap, restaur, that, serv,...</td>\n",
       "      <td>(vietnames, r_locat, cheap)</td>\n",
       "      <td>[(r_price, cheap), (r_cuisin, vietnames)]</td>\n",
       "      <td>(vietnames, r_locat, cheap)</td>\n",
       "    </tr>\n",
       "    <tr>\n",
       "      <th>389</th>\n",
       "      <td>[im, look, for, a, cheap, restaur, in, the, ea...</td>\n",
       "      <td>(r_cuisin, east, cheap)</td>\n",
       "      <td>[(r_price, cheap), (r_locat, east)]</td>\n",
       "      <td>(r_cuisin, east, cheap)</td>\n",
       "    </tr>\n",
       "    <tr>\n",
       "      <th>393</th>\n",
       "      <td>[im, look, for, a, cheap, restaur, in, the, ea...</td>\n",
       "      <td>(r_cuisin, east, cheap)</td>\n",
       "      <td>[(r_price, cheap), (r_locat, east)]</td>\n",
       "      <td>(r_cuisin, east, cheap)</td>\n",
       "    </tr>\n",
       "    <tr>\n",
       "      <th>396</th>\n",
       "      <td>[cheap, restaur, east, part, of, town]</td>\n",
       "      <td>(r_cuisin, east, cheap)</td>\n",
       "      <td>[(r_price, cheap), (r_locat, east)]</td>\n",
       "      <td>(r_cuisin, east, cheap)</td>\n",
       "    </tr>\n",
       "    <tr>\n",
       "      <th>398</th>\n",
       "      <td>[look, for, a, cheap, restaur, in, the, east, ...</td>\n",
       "      <td>(r_cuisin, east, cheap)</td>\n",
       "      <td>[(r_price, cheap), (r_locat, east)]</td>\n",
       "      <td>(r_cuisin, east, cheap)</td>\n",
       "    </tr>\n",
       "    <tr>\n",
       "      <th>400</th>\n",
       "      <td>[cheap, restaur, on, the, east, part, of, town]</td>\n",
       "      <td>(r_cuisin, east, cheap)</td>\n",
       "      <td>[(r_price, cheap), (r_locat, east)]</td>\n",
       "      <td>(r_cuisin, east, cheap)</td>\n",
       "    </tr>\n",
       "    <tr>\n",
       "      <th>406</th>\n",
       "      <td>[cheap, restaur, in, the, east, part, of, town]</td>\n",
       "      <td>(r_cuisin, east, cheap)</td>\n",
       "      <td>[(r_price, cheap), (r_locat, east)]</td>\n",
       "      <td>(r_cuisin, east, cheap)</td>\n",
       "    </tr>\n",
       "    <tr>\n",
       "      <th>410</th>\n",
       "      <td>[i, need, a, cheap, restaur, in, the, east, pa...</td>\n",
       "      <td>(r_cuisin, east, cheap)</td>\n",
       "      <td>[(r_price, cheap), (r_locat, east)]</td>\n",
       "      <td>(r_cuisin, east, cheap)</td>\n",
       "    </tr>\n",
       "    <tr>\n",
       "      <th>412</th>\n",
       "      <td>[cheap, restaur, east, part, of, town]</td>\n",
       "      <td>(r_cuisin, east, cheap)</td>\n",
       "      <td>[(r_price, cheap), (r_locat, east)]</td>\n",
       "      <td>(r_cuisin, east, cheap)</td>\n",
       "    </tr>\n",
       "    <tr>\n",
       "      <th>413</th>\n",
       "      <td>[im, look, for, a, cheap, restaur, in, the, ea...</td>\n",
       "      <td>(r_cuisin, east, cheap)</td>\n",
       "      <td>[(r_price, cheap), (r_locat, east)]</td>\n",
       "      <td>(r_cuisin, east, cheap)</td>\n",
       "    </tr>\n",
       "  </tbody>\n",
       "</table>\n",
       "<p>145 rows × 4 columns</p>\n",
       "</div>"
      ],
      "text/plain": [
       "                                                  text  \\\n",
       "1     [cheap, restaur, in, the, north, part, of, town]   \n",
       "2     [cheap, restaur, in, the, south, part, of, town]   \n",
       "3                 [cheap, restaur, serv, indian, food]   \n",
       "7    [im, look, for, a, cheap, restaur, in, the, no...   \n",
       "10                                    [cheap, restaur]   \n",
       "12   [i, want, a, cheap, restaur, in, the, west, pa...   \n",
       "14   [i, am, look, for, a, cheap, restaur, in, the,...   \n",
       "15   [im, look, for, a, cheap, restaur, serv, inter...   \n",
       "17   [look, for, a, cheap, restaur, in, the, south,...   \n",
       "20   [look, for, someth, cheap, in, the, north, sid...   \n",
       "33   [im, look, for, a, cheap, restaur, in, the, so...   \n",
       "40   [i, want, a, cheap, restaur, in, the, south, p...   \n",
       "44   [i, need, a, cheap, restaur, in, the, south, p...   \n",
       "46   [i, want, a, cheap, restaur, in, the, east, pa...   \n",
       "57   [breath, id, like, a, cheap, restaur, in, the,...   \n",
       "61   [im, look, for, a, cheap, restaur, in, the, we...   \n",
       "62   [i, would, like, to, find, a, cheap, restaur, ...   \n",
       "68    [cheap, restaur, in, the, north, part, of, town]   \n",
       "71   [i, would, like, a, cheap, restaur, in, the, n...   \n",
       "72   [i, would, like, a, cheap, restaur, in, the, w...   \n",
       "76   [im, look, for, a, cheap, restaur, in, the, we...   \n",
       "82   [im, look, for, a, cheap, restaur, in, the, so...   \n",
       "83   [im, look, for, a, cheap, restaur, in, the, ea...   \n",
       "84               [cheap, restaur, serv, spanish, food]   \n",
       "86   [im, look, for, a, cheap, restaur, in, the, no...   \n",
       "89   [im, look, for, a, cheap, restaur, in, the, we...   \n",
       "92   [im, look, for, a, cheap, restaur, in, the, ea...   \n",
       "96   [i, need, a, cheap, restaur, in, the, west, pa...   \n",
       "98   [im, look, for, a, cheap, restaur, in, the, no...   \n",
       "99   [im, look, for, a, cheap, restaur, in, the, no...   \n",
       "..                                                 ...   \n",
       "337  [look, for, a, cheap, restaur, in, the, east, ...   \n",
       "340             [cheap, restaur, west, part, of, town]   \n",
       "343  [im, look, for, a, cheap, restaur, and, it, sh...   \n",
       "346  [im, look, for, a, cheap, restaur, in, the, we...   \n",
       "350            [cheap, restaur, south, part, of, town]   \n",
       "351  [iam, look, for, a, cheap, restaur, and, it, s...   \n",
       "352  [uh, i, want, a, cheap, restaur, and, it, shou...   \n",
       "353  [im, look, for, a, cheap, restaur, in, the, so...   \n",
       "354  [i, would, like, a, cheap, restaur, in, the, s...   \n",
       "356  [can, i, have, a, cheap, restaur, in, the, wes...   \n",
       "358  [i, am, look, for, a, cheap, restaur, in, the,...   \n",
       "360  [a, want, a, cheap, restaur, in, the, north, p...   \n",
       "365     [cheap, restaur, in, th, east, part, of, town]   \n",
       "366  [im, look, for, a, cheap, restaur, and, it, sh...   \n",
       "369     [cheap, restaur, in, th, east, part, of, town]   \n",
       "371    [cheap, restaur, in, the, east, part, of, town]   \n",
       "372  [im, look, for, a, cheap, restaur, in, the, ea...   \n",
       "374  [look, for, someth, cheap, on, the, east, part...   \n",
       "377  [im, look, for, a, cheap, restaur, serv, medit...   \n",
       "378  [im, look, for, a, cheap, restaur, in, the, so...   \n",
       "384  [im, look, for, a, cheap, restaur, that, serv,...   \n",
       "389  [im, look, for, a, cheap, restaur, in, the, ea...   \n",
       "393  [im, look, for, a, cheap, restaur, in, the, ea...   \n",
       "396             [cheap, restaur, east, part, of, town]   \n",
       "398  [look, for, a, cheap, restaur, in, the, east, ...   \n",
       "400    [cheap, restaur, on, the, east, part, of, town]   \n",
       "406    [cheap, restaur, in, the, east, part, of, town]   \n",
       "410  [i, need, a, cheap, restaur, in, the, east, pa...   \n",
       "412             [cheap, restaur, east, part, of, town]   \n",
       "413  [im, look, for, a, cheap, restaur, in, the, ea...   \n",
       "\n",
       "                               frame  \\\n",
       "1           (r_cuisin, north, cheap)   \n",
       "2           (r_cuisin, south, cheap)   \n",
       "3           (indian, r_locat, cheap)   \n",
       "7           (r_cuisin, north, cheap)   \n",
       "10        (r_cuisin, r_locat, cheap)   \n",
       "12           (r_cuisin, west, cheap)   \n",
       "14           (r_cuisin, east, cheap)   \n",
       "15          (intern, r_locat, cheap)   \n",
       "17          (r_cuisin, south, cheap)   \n",
       "20          (r_cuisin, north, cheap)   \n",
       "33        (r_cuisin, r_locat, cheap)   \n",
       "40        (r_cuisin, r_locat, cheap)   \n",
       "44          (r_cuisin, south, cheap)   \n",
       "46           (r_cuisin, east, cheap)   \n",
       "57          (r_cuisin, south, cheap)   \n",
       "61           (r_cuisin, west, cheap)   \n",
       "62          (r_cuisin, south, cheap)   \n",
       "68          (r_cuisin, north, cheap)   \n",
       "71          (r_cuisin, north, cheap)   \n",
       "72           (r_cuisin, west, cheap)   \n",
       "76           (r_cuisin, west, cheap)   \n",
       "82          (r_cuisin, south, cheap)   \n",
       "83           (r_cuisin, east, cheap)   \n",
       "84         (spanish, r_locat, cheap)   \n",
       "86          (r_cuisin, north, cheap)   \n",
       "89           (r_cuisin, west, cheap)   \n",
       "92           (r_cuisin, east, cheap)   \n",
       "96           (r_cuisin, west, cheap)   \n",
       "98          (r_cuisin, north, cheap)   \n",
       "99          (r_cuisin, north, cheap)   \n",
       "..                               ...   \n",
       "337          (r_cuisin, east, cheap)   \n",
       "340          (r_cuisin, west, cheap)   \n",
       "343         (r_cuisin, north, cheap)   \n",
       "346          (r_cuisin, west, cheap)   \n",
       "350         (r_cuisin, south, cheap)   \n",
       "351         (r_cuisin, north, cheap)   \n",
       "352         (r_cuisin, north, cheap)   \n",
       "353         (r_cuisin, south, cheap)   \n",
       "354       (r_cuisin, r_locat, cheap)   \n",
       "356          (r_cuisin, west, cheap)   \n",
       "358          (r_cuisin, west, cheap)   \n",
       "360         (r_cuisin, north, cheap)   \n",
       "365          (r_cuisin, east, cheap)   \n",
       "366          (r_cuisin, east, cheap)   \n",
       "369          (r_cuisin, east, cheap)   \n",
       "371          (r_cuisin, east, cheap)   \n",
       "372          (r_cuisin, east, cheap)   \n",
       "374          (r_cuisin, east, cheap)   \n",
       "377  (mediterranean, r_locat, cheap)   \n",
       "378         (r_cuisin, south, cheap)   \n",
       "384      (vietnames, r_locat, cheap)   \n",
       "389          (r_cuisin, east, cheap)   \n",
       "393          (r_cuisin, east, cheap)   \n",
       "396          (r_cuisin, east, cheap)   \n",
       "398          (r_cuisin, east, cheap)   \n",
       "400          (r_cuisin, east, cheap)   \n",
       "406          (r_cuisin, east, cheap)   \n",
       "410          (r_cuisin, east, cheap)   \n",
       "412          (r_cuisin, east, cheap)   \n",
       "413          (r_cuisin, east, cheap)   \n",
       "\n",
       "                                             slots  \\\n",
       "1             [(r_price, cheap), (r_locat, north)]   \n",
       "2             [(r_price, cheap), (r_locat, south)]   \n",
       "3           [(r_price, cheap), (r_cuisin, indian)]   \n",
       "7             [(r_price, cheap), (r_locat, north)]   \n",
       "10                              [(r_price, cheap)]   \n",
       "12             [(r_price, cheap), (r_locat, west)]   \n",
       "14             [(r_price, cheap), (r_locat, east)]   \n",
       "15          [(r_price, cheap), (r_cuisin, intern)]   \n",
       "17            [(r_price, cheap), (r_locat, south)]   \n",
       "20            [(r_price, cheap), (r_locat, north)]   \n",
       "33            [(r_price, cheap), (r_locat, south)]   \n",
       "40            [(r_price, cheap), (r_locat, south)]   \n",
       "44            [(r_price, cheap), (r_locat, south)]   \n",
       "46             [(r_price, cheap), (r_locat, east)]   \n",
       "57            [(r_price, cheap), (r_locat, south)]   \n",
       "61             [(r_price, cheap), (r_locat, west)]   \n",
       "62            [(r_price, cheap), (r_locat, south)]   \n",
       "68            [(r_price, cheap), (r_locat, north)]   \n",
       "71            [(r_price, cheap), (r_locat, north)]   \n",
       "72             [(r_price, cheap), (r_locat, west)]   \n",
       "76             [(r_price, cheap), (r_locat, west)]   \n",
       "82            [(r_price, cheap), (r_locat, south)]   \n",
       "83             [(r_price, cheap), (r_locat, east)]   \n",
       "84         [(r_price, cheap), (r_cuisin, spanish)]   \n",
       "86            [(r_price, cheap), (r_locat, north)]   \n",
       "89             [(r_price, cheap), (r_locat, west)]   \n",
       "92             [(r_price, cheap), (r_locat, east)]   \n",
       "96             [(r_price, cheap), (r_locat, west)]   \n",
       "98            [(r_price, cheap), (r_locat, north)]   \n",
       "99            [(r_price, cheap), (r_locat, north)]   \n",
       "..                                             ...   \n",
       "337            [(r_price, cheap), (r_locat, east)]   \n",
       "340            [(r_price, cheap), (r_locat, west)]   \n",
       "343           [(r_price, cheap), (r_locat, north)]   \n",
       "346            [(r_price, cheap), (r_locat, west)]   \n",
       "350           [(r_price, cheap), (r_locat, south)]   \n",
       "351           [(r_price, cheap), (r_locat, north)]   \n",
       "352           [(r_price, cheap), (r_locat, north)]   \n",
       "353           [(r_price, cheap), (r_locat, south)]   \n",
       "354           [(r_price, cheap), (r_locat, south)]   \n",
       "356            [(r_price, cheap), (r_locat, west)]   \n",
       "358            [(r_price, cheap), (r_locat, west)]   \n",
       "360           [(r_price, cheap), (r_locat, north)]   \n",
       "365            [(r_price, cheap), (r_locat, east)]   \n",
       "366            [(r_price, cheap), (r_locat, east)]   \n",
       "369            [(r_price, cheap), (r_locat, east)]   \n",
       "371            [(r_price, cheap), (r_locat, east)]   \n",
       "372            [(r_price, cheap), (r_locat, east)]   \n",
       "374            [(r_price, cheap), (r_locat, east)]   \n",
       "377  [(r_price, cheap), (r_cuisin, mediterranean)]   \n",
       "378           [(r_price, cheap), (r_locat, south)]   \n",
       "384      [(r_price, cheap), (r_cuisin, vietnames)]   \n",
       "389            [(r_price, cheap), (r_locat, east)]   \n",
       "393            [(r_price, cheap), (r_locat, east)]   \n",
       "396            [(r_price, cheap), (r_locat, east)]   \n",
       "398            [(r_price, cheap), (r_locat, east)]   \n",
       "400            [(r_price, cheap), (r_locat, east)]   \n",
       "406            [(r_price, cheap), (r_locat, east)]   \n",
       "410            [(r_price, cheap), (r_locat, east)]   \n",
       "412            [(r_price, cheap), (r_locat, east)]   \n",
       "413            [(r_price, cheap), (r_locat, east)]   \n",
       "\n",
       "                           predicted  \n",
       "1           (r_cuisin, north, cheap)  \n",
       "2           (r_cuisin, south, cheap)  \n",
       "3           (indian, r_locat, cheap)  \n",
       "7           (r_cuisin, north, cheap)  \n",
       "10        (r_cuisin, r_locat, cheap)  \n",
       "12           (r_cuisin, west, cheap)  \n",
       "14           (r_cuisin, east, cheap)  \n",
       "15          (intern, r_locat, cheap)  \n",
       "17          (r_cuisin, south, cheap)  \n",
       "20          (r_cuisin, north, cheap)  \n",
       "33          (r_cuisin, south, cheap)  \n",
       "40          (r_cuisin, south, cheap)  \n",
       "44          (r_cuisin, south, cheap)  \n",
       "46           (r_cuisin, east, cheap)  \n",
       "57          (r_cuisin, south, cheap)  \n",
       "61           (r_cuisin, west, cheap)  \n",
       "62          (r_cuisin, south, cheap)  \n",
       "68          (r_cuisin, north, cheap)  \n",
       "71          (r_cuisin, north, cheap)  \n",
       "72           (r_cuisin, west, cheap)  \n",
       "76           (r_cuisin, west, cheap)  \n",
       "82          (r_cuisin, south, cheap)  \n",
       "83           (r_cuisin, east, cheap)  \n",
       "84         (spanish, r_locat, cheap)  \n",
       "86          (r_cuisin, north, cheap)  \n",
       "89           (r_cuisin, west, cheap)  \n",
       "92           (r_cuisin, east, cheap)  \n",
       "96           (r_cuisin, west, cheap)  \n",
       "98          (r_cuisin, north, cheap)  \n",
       "99          (r_cuisin, north, cheap)  \n",
       "..                               ...  \n",
       "337          (r_cuisin, east, cheap)  \n",
       "340          (r_cuisin, west, cheap)  \n",
       "343         (r_cuisin, north, cheap)  \n",
       "346          (r_cuisin, west, cheap)  \n",
       "350         (r_cuisin, south, cheap)  \n",
       "351         (r_cuisin, north, cheap)  \n",
       "352         (r_cuisin, north, cheap)  \n",
       "353         (r_cuisin, south, cheap)  \n",
       "354         (r_cuisin, south, cheap)  \n",
       "356          (r_cuisin, west, cheap)  \n",
       "358          (r_cuisin, west, cheap)  \n",
       "360         (r_cuisin, north, cheap)  \n",
       "365          (r_cuisin, east, cheap)  \n",
       "366          (r_cuisin, east, cheap)  \n",
       "369          (r_cuisin, east, cheap)  \n",
       "371          (r_cuisin, east, cheap)  \n",
       "372          (r_cuisin, east, cheap)  \n",
       "374          (r_cuisin, east, cheap)  \n",
       "377  (mediterranean, r_locat, cheap)  \n",
       "378         (r_cuisin, south, cheap)  \n",
       "384      (vietnames, r_locat, cheap)  \n",
       "389          (r_cuisin, east, cheap)  \n",
       "393          (r_cuisin, east, cheap)  \n",
       "396          (r_cuisin, east, cheap)  \n",
       "398          (r_cuisin, east, cheap)  \n",
       "400          (r_cuisin, east, cheap)  \n",
       "406          (r_cuisin, east, cheap)  \n",
       "410          (r_cuisin, east, cheap)  \n",
       "412          (r_cuisin, east, cheap)  \n",
       "413          (r_cuisin, east, cheap)  \n",
       "\n",
       "[145 rows x 4 columns]"
      ]
     },
     "execution_count": 207,
     "metadata": {},
     "output_type": "execute_result"
    }
   ],
   "source": [
    "test[test.text.map(lambda s: 'cheap' in s)]"
   ]
  },
  {
   "cell_type": "code",
   "execution_count": 202,
   "metadata": {
    "collapsed": false
   },
   "outputs": [
    {
     "data": {
      "text/plain": [
       "['id',\n",
       " 'like',\n",
       " 'a',\n",
       " 'cheap',\n",
       " 'restaur',\n",
       " 'in',\n",
       " 'the',\n",
       " 'south',\n",
       " 'part',\n",
       " 'of',\n",
       " 'town']"
      ]
     },
     "execution_count": 202,
     "metadata": {},
     "output_type": "execute_result"
    }
   ],
   "source": [
    "test[test.text.map(lambda s: 'south' in s)]['text'][284]"
   ]
  },
  {
   "cell_type": "code",
   "execution_count": null,
   "metadata": {
    "collapsed": true
   },
   "outputs": [],
   "source": []
  }
 ],
 "metadata": {
  "kernelspec": {
   "display_name": "Python 3",
   "language": "python",
   "name": "python3"
  },
  "language_info": {
   "codemirror_mode": {
    "name": "ipython",
    "version": 3
   },
   "file_extension": ".py",
   "mimetype": "text/x-python",
   "name": "python",
   "nbconvert_exporter": "python",
   "pygments_lexer": "ipython3",
   "version": "3.6.0"
  }
 },
 "nbformat": 4,
 "nbformat_minor": 2
}
