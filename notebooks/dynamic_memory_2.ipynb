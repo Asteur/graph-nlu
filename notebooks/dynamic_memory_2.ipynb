{
 "cells": [
  {
   "cell_type": "markdown",
   "metadata": {
    "deletable": true,
    "editable": true
   },
   "source": [
    "# Memory Representation in Dialogue Systems (Part 2)"
   ]
  },
  {
   "cell_type": "markdown",
   "metadata": {
    "deletable": true,
    "editable": true
   },
   "source": [
    "This notebook is part 2 of the dynamic memory representation series. See part 1 to get started."
   ]
  },
  {
   "cell_type": "markdown",
   "metadata": {
    "deletable": true,
    "editable": true
   },
   "source": [
    "## Process the Text\n",
    "As with part 1, part 2 will perform the same evaluation as part 1, except with bAbI tasks QA2, Two Supporting Facts. In QA1, there were two types of entities: `person`s and `room`s. In QA2, there is one additional entity type: `item`s. Each dialogue provides a sequence of statements that indicate persons going to different rooms as before, and also items that persons may have acquired or released. The key insight is that objects move into rooms with the person that last acquired them, and stay in rooms once released. This requires the system to make the distinction between rooms and items, and also between acquiring and releasing actions.\n",
    "\n",
    "The first step is to import `resources/qa2_two-supporting-facts_train.txt` into `data`. Text processing is exactly the same as before: tokenize and POS tag the sentences."
   ]
  },
  {
   "cell_type": "code",
   "execution_count": 1,
   "metadata": {
    "collapsed": true,
    "deletable": true,
    "editable": true
   },
   "outputs": [],
   "source": [
    "import pandas as pd\n",
    "import numpy as np\n",
    "import nltk\n",
    "from sklearn.metrics import accuracy_score"
   ]
  },
  {
   "cell_type": "code",
   "execution_count": 2,
   "metadata": {
    "collapsed": false,
    "deletable": true,
    "editable": true
   },
   "outputs": [],
   "source": [
    "# Read the bAbI data as CSV\n",
    "filename = 'resources/qa2_two-supporting-facts_train.txt'\n",
    "data = pd.read_csv(filename, delimiter='\\t', names=['sentence', 'answer', 'factid'])\n",
    "data = data.fillna('')\n",
    "\n",
    "# Tag each sentence as a statement or question\n",
    "tag_sentence = lambda row: 'S' if row.answer == '' else 'Q'\n",
    "data['type'] = data.apply(tag_sentence, axis=1)\n",
    "\n",
    "# Use NLTK to tokenize the sentences into arrays of words\n",
    "tokenize = lambda row: nltk.word_tokenize(row.sentence)[1:]\n",
    "data.sentence = data.apply(tokenize, axis=1)"
   ]
  },
  {
   "cell_type": "code",
   "execution_count": 3,
   "metadata": {
    "collapsed": true,
    "deletable": true,
    "editable": true
   },
   "outputs": [],
   "source": [
    "# Create a DataFrame with just the statements\n",
    "def statements():\n",
    "    return data[data.type == 'S'] \\\n",
    "        .reset_index(drop=True) \\\n",
    "        .drop('answer', axis=1) \\\n",
    "        .drop('factid', axis=1) \\\n",
    "        .drop('type', axis=1)\n",
    "\n",
    "# Create a DataFrame with just the questions\n",
    "def questions():\n",
    "    return data[data.type == 'Q'] \\\n",
    "        .reset_index(drop=True) \\\n",
    "        .drop('type', axis=1)"
   ]
  },
  {
   "cell_type": "code",
   "execution_count": 4,
   "metadata": {
    "collapsed": true,
    "deletable": true,
    "editable": true
   },
   "outputs": [],
   "source": [
    "# Tag each token as a part of speech\n",
    "pos_tag = lambda row: nltk.pos_tag(row.sentence)\n",
    "data['tag'] = data.apply(pos_tag, axis=1)"
   ]
  },
  {
   "cell_type": "code",
   "execution_count": 5,
   "metadata": {
    "collapsed": true,
    "deletable": true,
    "editable": true
   },
   "outputs": [],
   "source": [
    "def extract_statement(tags):\n",
    "    '''Extracts a (subject, relation, object) triple from each statement based on the POS tags'''\n",
    "    subject, relation, obj = '', '', ''\n",
    "    for word,tag in tags:\n",
    "        if tag == 'NNP':\n",
    "            subject = word\n",
    "        elif tag == 'VBD' or word == 'journeyed': # TODO: 'journeyed' is tagged improperly\n",
    "            relation = word\n",
    "        elif tag == 'NN':\n",
    "            obj = word\n",
    "    return (subject, relation, obj)"
   ]
  },
  {
   "cell_type": "code",
   "execution_count": 6,
   "metadata": {
    "collapsed": true,
    "deletable": true,
    "editable": true
   },
   "outputs": [],
   "source": [
    "def extract_question(tags):\n",
    "    '''Extracts the entity under discussion from each question based on the POS tags'''\n",
    "    eud = ''\n",
    "    for word,tag in tags:\n",
    "        if tag == 'NNP' or tag == 'NN':\n",
    "            eud = word\n",
    "    return eud"
   ]
  },
  {
   "cell_type": "code",
   "execution_count": 7,
   "metadata": {
    "collapsed": true,
    "deletable": true,
    "editable": true
   },
   "outputs": [],
   "source": [
    "def extract(row):\n",
    "    '''Extracts the appropriate data given a processed DataFrame row'''\n",
    "    if row.type == 'S':\n",
    "        return extract_statement(row.tag)\n",
    "    else: \n",
    "        return extract_question(row.tag)"
   ]
  },
  {
   "cell_type": "code",
   "execution_count": 8,
   "metadata": {
    "collapsed": true,
    "deletable": true,
    "editable": true
   },
   "outputs": [],
   "source": [
    "data['extracted'] = data.apply(extract, axis=1)"
   ]
  },
  {
   "cell_type": "markdown",
   "metadata": {
    "deletable": true,
    "editable": true
   },
   "source": [
    "## Define the Graph"
   ]
  },
  {
   "cell_type": "code",
   "execution_count": 11,
   "metadata": {
    "collapsed": true,
    "deletable": true,
    "editable": true
   },
   "outputs": [],
   "source": [
    "from neo4j.v1 import GraphDatabase, basic_auth"
   ]
  },
  {
   "cell_type": "code",
   "execution_count": 12,
   "metadata": {
    "collapsed": true,
    "deletable": true,
    "editable": true
   },
   "outputs": [],
   "source": [
    "# Create a neo4j session\n",
    "# NOTE: Make sure that URL/credentials are correct and that Neo4j is running\n",
    "driver = GraphDatabase.driver('bolt://localhost:7687', auth=basic_auth('neo4j', 'neo4j'))"
   ]
  },
  {
   "cell_type": "code",
   "execution_count": 13,
   "metadata": {
    "collapsed": true,
    "deletable": true,
    "editable": true
   },
   "outputs": [],
   "source": [
    "# WARNING: This will clear the database when run!\n",
    "def reset_db():\n",
    "    '''Remove all nodes and relationships from the database'''\n",
    "    session = driver.session()\n",
    "    session.run('MATCH (n) DETACH DELETE n')"
   ]
  },
  {
   "cell_type": "code",
   "execution_count": 14,
   "metadata": {
    "collapsed": true,
    "deletable": true,
    "editable": true
   },
   "outputs": [],
   "source": [
    "def create(query, start=0, end=0):\n",
    "    '''Create a graph based on each triple in the extracted statements'''\n",
    "    session = driver.session()\n",
    "    stat = statements()\n",
    "    end = len(stat) if end <= start else end\n",
    "    for subject,relation,obj in stat[start:end].extracted:\n",
    "        session.run(query, subject=subject, relation=relation, obj=obj)"
   ]
  },
  {
   "cell_type": "markdown",
   "metadata": {
    "deletable": true,
    "editable": true
   },
   "source": [
    "This is the point where QA2 starts to be different from QA1. The query generating the knowledge graph needs to be altered slightly to encode information about the ordering of events relative to objects as well as subjects.\n",
    "\n",
    "In QA1, a linked list was constructed to keep track of events relative to a character; the `NEXT` edge type indicated the next event that the _person_ acted upon. This was all that was necessary, since the questions asked directly about the most recent event that corresponded to a particular person.\n",
    "\n",
    "In QA2, questions ask about the item a room is in, which requires a way to keep track of the last person who interacted with it. As such, it is not enough to know the order in which a person performed actions, but it is also necessary to know the order in which an item was handled. The most recent interaction indicates the person who interacted with that object last, and that can be used to find the room based on their visit history.\n",
    "\n",
    "Thus, the v4 graph query will create three types of lists.\n",
    "1. The first list is the global list of events indicated by the `NEXT` edge type.\n",
    "2. The second list is a `person`'s list of events indicated by the `S_NEXT` (next subject) edge type.\n",
    "3. The third list is an `item`'s list of events indicated by the `O_NEXT` (next object) edge type.\n",
    "Each list has a `HEAD` edge that points to the most recent event relative to their respective lists."
   ]
  },
  {
   "cell_type": "code",
   "execution_count": null,
   "metadata": {
    "collapsed": true,
    "deletable": true,
    "editable": true
   },
   "outputs": [],
   "source": [
    "v4_query = '''\n",
    "    /// 1. Create Nodes\n",
    "    MERGE (global:GLOBAL {name:'global'}) // Find/create the global entity\n",
    "    MERGE (subject:SUBJECT {name:$subject}) // Find/create the subject and object\n",
    "    MERGE (object:OBJECT {name:$obj})\n",
    "\n",
    "    /// 2. Create a new relation between the subject and object\n",
    "    CREATE (subject)-[:R_BEGIN]->(relation:RELATION {name:$relation})-[:R_END]->(object)\n",
    "\n",
    "    /// 3. Create head pointers to the newly created relation\n",
    "    CREATE (global)-[globalHead:HEAD]->(relation)\n",
    "    CREATE (subject)-[subjectHead:HEAD]->(relation)\n",
    "    CREATE (object)-[objectHead:HEAD]->(relation)\n",
    "\n",
    "    WITH global,subject,relation,object,subjectHead,objectHead,globalHead\n",
    "\n",
    "    /// 4. Link the existing global list with the new head node\n",
    "    // Find the previous global head of the list (if none exist, this query will terminate here)\n",
    "    MATCH (global)-[prevGlobalHead:HEAD]->(prevGlobalRelation:RELATION) WHERE prevGlobalRelation <> relation\n",
    "    CREATE (prevGlobalRelation)-[:NEXT]->(relation) // Complete the link\n",
    "    DELETE prevGlobalHead // Remove the previous head pointer\n",
    "\n",
    "    WITH subject,relation,object,subjectHead,objectHead\n",
    "\n",
    "    /// 5. Link the existing subject list with the new head node\n",
    "    // Find the previous subject head of the list (if none exist, this query will terminate here)\n",
    "    MATCH (subject)-[prevSubjectHead:HEAD]->(prevSubjectRelation:RELATION) WHERE prevSubjectRelation <> relation\n",
    "    CREATE (prevSubjectRelation)-[:S_NEXT]->(relation) // Complete the link\n",
    "    DELETE prevSubjectHead // Remove the previous head pointer\n",
    "\n",
    "    WITH subject,relation,object,objectHead\n",
    "\n",
    "    /// 6. Link the existing object list with the new head node\n",
    "    // Find the previous subject head of the list (if none exist, this query will terminate here)\n",
    "    MATCH (object)-[prevObjectHead:HEAD]->(prevObjectRelation:RELATION) WHERE prevObjectRelation <> relation\n",
    "    CREATE (prevObjectRelation)-[:O_NEXT]->(relation) // Complete the link\n",
    "    DELETE prevObjectHead // Remove the previous head pointer\n",
    "'''"
   ]
  },
  {
   "cell_type": "code",
   "execution_count": 15,
   "metadata": {
    "collapsed": false,
    "deletable": true,
    "editable": true
   },
   "outputs": [],
   "source": [
    "# Represent each relation as a node, ordered by multiple linked lists\n",
    "def build_v4_graph(start=0, end=0):\n",
    "    reset_db()\n",
    "    \n",
    "    session = driver.session()\n",
    "    \n",
    "    # Create an index for faster access\n",
    "    session.run('CREATE INDEX ON :SUBJECT(name)')\n",
    "    session.run('CREATE INDEX ON :RELATION(name)')\n",
    "    session.run('CREATE INDEX ON :OBJECT(name)')\n",
    "    \n",
    "    create(v4_query, start=start, end=end)"
   ]
  },
  {
   "cell_type": "code",
   "execution_count": 16,
   "metadata": {
    "collapsed": false,
    "deletable": true,
    "editable": true
   },
   "outputs": [],
   "source": [
    "all_actions = sorted(list(set(x[1] for x in data.extracted if x != '' and x[1] != '')))"
   ]
  },
  {
   "cell_type": "code",
   "execution_count": 17,
   "metadata": {
    "collapsed": true,
    "deletable": true,
    "editable": true
   },
   "outputs": [],
   "source": [
    "movement_actions = ['journeyed', 'moved', 'travelled', 'went']\n",
    "acquire_actions = ['got', 'grabbed', 'picked', 'took']\n",
    "release_actions = ['discarded', 'dropped', 'left', 'put']"
   ]
  },
  {
   "cell_type": "code",
   "execution_count": 18,
   "metadata": {
    "collapsed": true,
    "deletable": true,
    "editable": true
   },
   "outputs": [],
   "source": [
    "def find_last_person(obj):\n",
    "    '''Finds the last person in contact with the object'''\n",
    "    query = '''\n",
    "        MATCH (:OBJECT {name:$name})-[:HEAD]->(relation:RELATION)<-[:R_BEGIN]-(subject:SUBJECT)\n",
    "        RETURN relation.name AS relation, subject.name AS subject\n",
    "    '''\n",
    "    return session.run(query, name=obj)"
   ]
  },
  {
   "cell_type": "code",
   "execution_count": 20,
   "metadata": {
    "collapsed": true,
    "deletable": true,
    "editable": true
   },
   "outputs": [],
   "source": [
    "def find_object_location(obj):\n",
    "    query = '''\n",
    "        // Find the last person in contact with the object\n",
    "        MATCH (:OBJECT {name:$obj})-[:HEAD]->(relation:RELATION)<-[:R_BEGIN]-(subject:SUBJECT)\n",
    "\n",
    "        // Acquire\n",
    "        MATCH (subject)-[:HEAD]->(head_relation:RELATION)\n",
    "        \n",
    "        MATCH p=(head_relation)<-[next:S_NEXT *1..20]-(prevRelation:RELATION)\n",
    "        WHERE prevRelation.name IN $movement\n",
    "        WITH size(next) as dist, p, relation\n",
    "        ORDER BY dist\n",
    "        WITH filter(n IN nodes(p) WHERE n.name IN $movement)[0] AS shortest, relation\n",
    "        MATCH (shortest)-[:R_END]->(object_acquire:OBJECT)\n",
    "        \n",
    "        WITH relation, object_acquire\n",
    "\n",
    "        // Release\n",
    "        MATCH p=(relation)<-[next:S_NEXT *1..20]-(prevRelation:RELATION)\n",
    "        WHERE prevRelation.name IN $movement\n",
    "        WITH size(next) as dist, p, object_acquire, relation\n",
    "        ORDER BY dist\n",
    "        WITH filter(n IN nodes(p) WHERE n.name IN $movement)[0] AS shortest, object_acquire, relation\n",
    "        MATCH (shortest)-[:R_END]->(object_release:OBJECT)\n",
    "\n",
    "        RETURN DISTINCT object_acquire.name AS acquire, object_release.name AS release, relation.name AS relation\n",
    "    '''\n",
    "    return session.run(query, obj=obj, movement=movement_actions)"
   ]
  },
  {
   "cell_type": "code",
   "execution_count": 21,
   "metadata": {
    "collapsed": true,
    "deletable": true,
    "editable": true
   },
   "outputs": [],
   "source": [
    "## 98.6% Accuracy\n",
    "\n",
    "# def find_object_location(obj):\n",
    "#     query = '''\n",
    "#         // Find the last person in contact with the object\n",
    "#         MATCH (:OBJECT {name:$obj})-[:HEAD]->(relation:RELATION)<-[:R_BEGIN]-(subject:SUBJECT)\n",
    "\n",
    "#         // Acquire\n",
    "#         MATCH (subject)-[:HEAD]->(:RELATION)-[:R_END]->(object_acquire:OBJECT)\n",
    "\n",
    "#         // Release\n",
    "#         MATCH p=(relation)<-[next:S_NEXT *1..20]-(prevRelation:RELATION)\n",
    "#         WHERE prevRelation.name IN $movement\n",
    "#         WITH size(next) as dist, p, object_acquire, relation\n",
    "#         ORDER BY dist\n",
    "#         WITH filter(n IN nodes(p) WHERE n.name IN $movement)[0] AS shortest, object_acquire, relation\n",
    "#         MATCH (shortest)-[:R_END]->(object_release:OBJECT)\n",
    "\n",
    "#         RETURN DISTINCT object_acquire.name AS acquire, object_release.name AS release, relation.name AS relation\n",
    "#     '''\n",
    "#     return session.run(query, obj=obj, movement=movement_actions)"
   ]
  },
  {
   "cell_type": "code",
   "execution_count": 24,
   "metadata": {
    "collapsed": false,
    "deletable": true,
    "editable": true
   },
   "outputs": [
    {
     "data": {
      "text/plain": [
       "<Record acquire='garden' release='bathroom' relation='got'>"
      ]
     },
     "execution_count": 24,
     "metadata": {},
     "output_type": "execute_result"
    }
   ],
   "source": [
    "build_v4_graph(start=0, end=6)\n",
    "\n",
    "session = driver.session()\n",
    "find_object_location('football').single()"
   ]
  },
  {
   "cell_type": "code",
   "execution_count": 25,
   "metadata": {
    "collapsed": false,
    "deletable": true,
    "editable": true
   },
   "outputs": [
    {
     "data": {
      "text/plain": [
       "<Record acquire='garden' release='bathroom' relation='got'>"
      ]
     },
     "execution_count": 25,
     "metadata": {},
     "output_type": "execute_result"
    }
   ],
   "source": [
    "session = driver.session()\n",
    "find_object_location('football').single()"
   ]
  },
  {
   "cell_type": "markdown",
   "metadata": {
    "deletable": true,
    "editable": true
   },
   "source": [
    "## Build the Graph"
   ]
  },
  {
   "cell_type": "code",
   "execution_count": 26,
   "metadata": {
    "collapsed": false,
    "deletable": true,
    "editable": true
   },
   "outputs": [],
   "source": [
    "build_v4_graph()"
   ]
  },
  {
   "cell_type": "markdown",
   "metadata": {
    "deletable": true,
    "editable": true
   },
   "source": [
    "<img src=\"screenshots/qa2-multiple-list.png\" style=\"width:1000px;\">"
   ]
  },
  {
   "cell_type": "markdown",
   "metadata": {
    "deletable": true,
    "editable": true
   },
   "source": [
    "## Calcualte an Accuracy Score"
   ]
  },
  {
   "cell_type": "code",
   "execution_count": 27,
   "metadata": {
    "collapsed": true,
    "deletable": true,
    "editable": true
   },
   "outputs": [],
   "source": [
    "def get_answers(row):\n",
    "    '''Given an input row merge the statement in the graph, \n",
    "    or query the graph if it is a question'''\n",
    "    if row.type == 'S':\n",
    "        subject,relation,obj = row.extracted\n",
    "        session.run(v4_query, subject=subject, relation=relation, obj=obj)\n",
    "        return ''\n",
    "    elif row.type == 'Q':\n",
    "        obj = row.extracted\n",
    "        # WARNING: do not consume the result (e.g., call .consume() or .single()) \n",
    "        # until the entire iteration is done.\n",
    "        # Failure to do so may cause the queries to be VERY slow!\n",
    "        return find_object_location(obj)"
   ]
  },
  {
   "cell_type": "code",
   "execution_count": 28,
   "metadata": {
    "collapsed": true,
    "deletable": true,
    "editable": true
   },
   "outputs": [],
   "source": [
    "def traverse(result):\n",
    "    if result['relation'] in acquire_actions:\n",
    "        return result['acquire']\n",
    "    else:\n",
    "        return result['release']"
   ]
  },
  {
   "cell_type": "code",
   "execution_count": 30,
   "metadata": {
    "collapsed": false,
    "deletable": true,
    "editable": true
   },
   "outputs": [],
   "source": [
    "reset_db()"
   ]
  },
  {
   "cell_type": "code",
   "execution_count": 31,
   "metadata": {
    "collapsed": false,
    "deletable": true,
    "editable": true,
    "scrolled": true
   },
   "outputs": [],
   "source": [
    "session = driver.session()\n",
    "results = data.apply(get_answers, axis=1)\n",
    "results = [x for x in results if x != '']\n",
    "predicted = [traverse(result.single()) for result in results]"
   ]
  },
  {
   "cell_type": "code",
   "execution_count": 32,
   "metadata": {
    "collapsed": false,
    "deletable": true,
    "editable": true
   },
   "outputs": [
    {
     "data": {
      "text/plain": [
       "['garden', 'garden', 'hallway', 'hallway', 'kitchen']"
      ]
     },
     "execution_count": 32,
     "metadata": {},
     "output_type": "execute_result"
    }
   ],
   "source": [
    "predicted[:5]"
   ]
  },
  {
   "cell_type": "code",
   "execution_count": 33,
   "metadata": {
    "collapsed": true,
    "deletable": true,
    "editable": true
   },
   "outputs": [],
   "source": [
    "actual = list(questions().answer)"
   ]
  },
  {
   "cell_type": "code",
   "execution_count": 34,
   "metadata": {
    "collapsed": false,
    "deletable": true,
    "editable": true
   },
   "outputs": [
    {
     "data": {
      "text/plain": [
       "['garden', 'garden', 'hallway', 'hallway', 'kitchen']"
      ]
     },
     "execution_count": 34,
     "metadata": {},
     "output_type": "execute_result"
    }
   ],
   "source": [
    "actual[:5]"
   ]
  },
  {
   "cell_type": "code",
   "execution_count": 35,
   "metadata": {
    "collapsed": false,
    "deletable": true,
    "editable": true
   },
   "outputs": [
    {
     "data": {
      "text/plain": [
       "1.0"
      ]
     },
     "execution_count": 35,
     "metadata": {},
     "output_type": "execute_result"
    }
   ],
   "source": [
    "accuracy_score(actual, predicted)"
   ]
  },
  {
   "cell_type": "code",
   "execution_count": 36,
   "metadata": {
    "collapsed": false,
    "deletable": true,
    "editable": true
   },
   "outputs": [],
   "source": [
    "def find_incorrect(actual, predicted):\n",
    "    z = list(zip(actual, predicted))\n",
    "    return [(i, x[0], x[1]) for i,x in enumerate(z) if x[0] != x[1]]"
   ]
  },
  {
   "cell_type": "code",
   "execution_count": null,
   "metadata": {
    "collapsed": true,
    "deletable": true,
    "editable": true
   },
   "outputs": [],
   "source": []
  }
 ],
 "metadata": {
  "kernelspec": {
   "display_name": "Python 3",
   "language": "python",
   "name": "python3"
  },
  "language_info": {
   "codemirror_mode": {
    "name": "ipython",
    "version": 3
   },
   "file_extension": ".py",
   "mimetype": "text/x-python",
   "name": "python",
   "nbconvert_exporter": "python",
   "pygments_lexer": "ipython3",
   "version": "3.6.1"
  }
 },
 "nbformat": 4,
 "nbformat_minor": 2
}
