{
 "cells": [
  {
   "cell_type": "markdown",
   "metadata": {},
   "source": [
    "# Memory Representation in Dialogue Systems (Part 2)"
   ]
  },
  {
   "cell_type": "markdown",
   "metadata": {},
   "source": [
    "Under construction, will update with explanations when finished."
   ]
  },
  {
   "cell_type": "markdown",
   "metadata": {},
   "source": [
    "## Process the Text"
   ]
  },
  {
   "cell_type": "code",
   "execution_count": 102,
   "metadata": {
    "collapsed": true,
    "deletable": true,
    "editable": true
   },
   "outputs": [],
   "source": [
    "import pandas as pd\n",
    "import numpy as np\n",
    "import nltk\n",
    "from sklearn.metrics import accuracy_score"
   ]
  },
  {
   "cell_type": "code",
   "execution_count": 103,
   "metadata": {
    "collapsed": false,
    "deletable": true,
    "editable": true
   },
   "outputs": [],
   "source": [
    "# Read the bAbI data as CSV\n",
    "filename = 'resources/qa2_two-supporting-facts_train.txt'\n",
    "data = pd.read_csv(filename, delimiter='\\t', names=['sentence', 'answer', 'factid'])\n",
    "data = data.fillna('')\n",
    "\n",
    "# Tag each sentence as a statement or question\n",
    "tag_sentence = lambda row: 'S' if row.answer == '' else 'Q'\n",
    "data['type'] = data.apply(tag_sentence, axis=1)\n",
    "\n",
    "# Use NLTK to tokenize the sentences into arrays of words\n",
    "tokenize = lambda row: nltk.word_tokenize(row.sentence)[1:]\n",
    "data.sentence = data.apply(tokenize, axis=1)"
   ]
  },
  {
   "cell_type": "code",
   "execution_count": 104,
   "metadata": {
    "collapsed": true
   },
   "outputs": [],
   "source": [
    "# Create a DataFrame with just the statements\n",
    "def statements():\n",
    "    return data[data.type == 'S'] \\\n",
    "        .reset_index(drop=True) \\\n",
    "        .drop('answer', axis=1) \\\n",
    "        .drop('factid', axis=1) \\\n",
    "        .drop('type', axis=1)\n",
    "\n",
    "# Create a DataFrame with just the questions\n",
    "def questions():\n",
    "    return data[data.type == 'Q'] \\\n",
    "        .reset_index(drop=True) \\\n",
    "        .drop('type', axis=1)"
   ]
  },
  {
   "cell_type": "code",
   "execution_count": 105,
   "metadata": {
    "collapsed": true
   },
   "outputs": [],
   "source": [
    "# Tag each token as a part of speech\n",
    "pos_tag = lambda row: nltk.pos_tag(row.sentence)\n",
    "data['tag'] = data.apply(pos_tag, axis=1)"
   ]
  },
  {
   "cell_type": "code",
   "execution_count": 106,
   "metadata": {
    "collapsed": true
   },
   "outputs": [],
   "source": [
    "def extract_statement(tags):\n",
    "    '''Extracts a (subject, relation, object) triple from each statement based on the POS tags'''\n",
    "    subject, relation, obj = '', '', ''\n",
    "    for word,tag in tags:\n",
    "        if tag == 'NNP':\n",
    "            subject = word\n",
    "        elif tag == 'VBD':\n",
    "            relation = word\n",
    "        elif tag == 'NN':\n",
    "            obj = word\n",
    "    return (subject, relation, obj)"
   ]
  },
  {
   "cell_type": "code",
   "execution_count": 178,
   "metadata": {
    "collapsed": true
   },
   "outputs": [],
   "source": [
    "def extract_question(tags):\n",
    "    '''Extracts the entity under discussion from each question based on the POS tags'''\n",
    "    eud = ''\n",
    "    for word,tag in tags:\n",
    "        if tag == 'NNP' or tag == 'NN':\n",
    "            eud = word\n",
    "    return eud"
   ]
  },
  {
   "cell_type": "code",
   "execution_count": 179,
   "metadata": {
    "collapsed": true
   },
   "outputs": [],
   "source": [
    "def extract(row):\n",
    "    '''Extracts the appropriate data given a processed DataFrame row'''\n",
    "    if row.type == 'S':\n",
    "        return extract_statement(row.tag)\n",
    "    else: \n",
    "        return extract_question(row.tag)"
   ]
  },
  {
   "cell_type": "code",
   "execution_count": 180,
   "metadata": {
    "collapsed": true
   },
   "outputs": [],
   "source": [
    "data['extracted'] = data.apply(extract, axis=1)"
   ]
  },
  {
   "cell_type": "code",
   "execution_count": 110,
   "metadata": {
    "collapsed": true
   },
   "outputs": [],
   "source": [
    "def person_statements(person):\n",
    "    '''Get all statements that refer to the specified person'''\n",
    "    stat = statements()\n",
    "    return stat[stat.extracted.map(lambda t: t[0] == person)]"
   ]
  },
  {
   "cell_type": "code",
   "execution_count": 111,
   "metadata": {
    "collapsed": true
   },
   "outputs": [],
   "source": [
    "def person_statements_recent(person, n=5):\n",
    "    '''Get the n most recent statements that refer to the specified person in reverse chronological order'''\n",
    "    return person_statements(person)[-n:].iloc[::-1]"
   ]
  },
  {
   "cell_type": "markdown",
   "metadata": {},
   "source": [
    "## Define the Graph"
   ]
  },
  {
   "cell_type": "code",
   "execution_count": 302,
   "metadata": {
    "collapsed": true
   },
   "outputs": [],
   "source": [
    "from neo4j.v1 import GraphDatabase, basic_auth"
   ]
  },
  {
   "cell_type": "code",
   "execution_count": 303,
   "metadata": {
    "collapsed": true
   },
   "outputs": [],
   "source": [
    "# Create a neo4j session\n",
    "# NOTE: Make sure that URL/credentials are correct and that Neo4j is running\n",
    "driver = GraphDatabase.driver('bolt://localhost:7687', auth=basic_auth('neo4j', 'neo4j'))"
   ]
  },
  {
   "cell_type": "code",
   "execution_count": 304,
   "metadata": {
    "collapsed": true
   },
   "outputs": [],
   "source": [
    "# WARNING: This will clear the database when run!\n",
    "def reset_db():\n",
    "    '''Remove all nodes and relationships from the database'''\n",
    "    session = driver.session()\n",
    "    session.run('MATCH (n) DETACH DELETE n')"
   ]
  },
  {
   "cell_type": "code",
   "execution_count": 305,
   "metadata": {
    "collapsed": true
   },
   "outputs": [],
   "source": [
    "def create(query, start=0, end=0):\n",
    "    '''Create a graph based on each triple in the extracted statements'''\n",
    "    session = driver.session()\n",
    "    stat = statements()\n",
    "    end = len(stat) if end <= start else end\n",
    "    for subject,relation,obj in stat[start:end].extracted:\n",
    "        session.run(query, subject=subject, relation=relation, obj=obj)"
   ]
  },
  {
   "cell_type": "code",
   "execution_count": 345,
   "metadata": {
    "collapsed": false
   },
   "outputs": [],
   "source": [
    "v4_query = '''\n",
    "    /// 1. Create Nodes\n",
    "    MERGE (global:GLOBAL {name:'global'}) // Find/create the global entity\n",
    "    MERGE (subject:SUBJECT {name:$subject}) // Find/create the subject and object\n",
    "    MERGE (object:OBJECT {name:$obj})\n",
    "\n",
    "    /// 2. Create a new relation between the subject and object\n",
    "    CREATE (subject)-[:R_BEGIN]->(relation:RELATION {name:$relation})-[:R_END]->(object)\n",
    "\n",
    "    /// 3. Create head pointers to the newly created relation\n",
    "    CREATE (global)-[globalHead:HEAD]->(relation)\n",
    "    CREATE (subject)-[subjectHead:HEAD]->(relation)\n",
    "    CREATE (object)-[objectHead:HEAD]->(relation)\n",
    "\n",
    "    WITH global,subject,relation,object,subjectHead,objectHead,globalHead\n",
    "\n",
    "    /// 4. Link the existing global list with the new head node\n",
    "    // Find the previous global head of the list (if none exist, this query will terminate here)\n",
    "    MATCH (global)-[prevGlobalHead:HEAD]->(prevGlobalRelation:RELATION) WHERE prevGlobalRelation <> relation\n",
    "    CREATE (prevGlobalRelation)-[:NEXT]->(relation) // Complete the link\n",
    "    DELETE prevGlobalHead // Remove the previous head pointer\n",
    "\n",
    "    WITH subject,relation,object,subjectHead,objectHead\n",
    "\n",
    "    /// 5. Link the existing subject list with the new head node\n",
    "    // Find the previous subject head of the list (if none exist, this query will terminate here)\n",
    "    MATCH (subject)-[prevSubjectHead:HEAD]->(prevSubjectRelation:RELATION) WHERE prevSubjectRelation <> relation\n",
    "    CREATE (prevSubjectRelation)-[:S_NEXT]->(relation) // Complete the link\n",
    "    DELETE prevSubjectHead // Remove the previous head pointer\n",
    "\n",
    "    WITH subject,relation,object,objectHead\n",
    "\n",
    "    /// 6. Link the existing object list with the new head node\n",
    "    // Find the previous subject head of the list (if none exist, this query will terminate here)\n",
    "    MATCH (object)-[prevObjectHead:HEAD]->(prevObjectRelation:RELATION) WHERE prevObjectRelation <> relation\n",
    "    CREATE (prevObjectRelation)-[:O_NEXT]->(relation) // Complete the link\n",
    "    DELETE prevObjectHead // Remove the previous head pointer\n",
    "'''\n",
    "\n",
    "# Represent each relation as a node, ordered by multiple linked lists\n",
    "def build_v4_graph(start=0, end=0):\n",
    "    reset_db()\n",
    "    \n",
    "    session = driver.session()\n",
    "    # Create an index for faster access\n",
    "    session.run('CREATE INDEX ON :SUBJECT(name)')\n",
    "    session.run('CREATE INDEX ON :RELATION(name)')\n",
    "    session.run('CREATE INDEX ON :OBJECT(name)')\n",
    "    create(v4_query, start=start, end=end)\n",
    "\n",
    "build_v4_graph(start=0, end=12)"
   ]
  },
  {
   "cell_type": "code",
   "execution_count": 307,
   "metadata": {
    "collapsed": false
   },
   "outputs": [
    {
     "data": {
      "text/html": [
       "<div>\n",
       "<table border=\"1\" class=\"dataframe\">\n",
       "  <thead>\n",
       "    <tr style=\"text-align: right;\">\n",
       "      <th></th>\n",
       "      <th>sentence</th>\n",
       "      <th>tag</th>\n",
       "      <th>extracted</th>\n",
       "    </tr>\n",
       "  </thead>\n",
       "  <tbody>\n",
       "    <tr>\n",
       "      <th>0</th>\n",
       "      <td>[Mary, moved, to, the, bathroom, .]</td>\n",
       "      <td>[(Mary, NNP), (moved, VBD), (to, TO), (the, DT...</td>\n",
       "      <td>(Mary, moved, bathroom)</td>\n",
       "    </tr>\n",
       "    <tr>\n",
       "      <th>1</th>\n",
       "      <td>[Sandra, journeyed, to, the, bedroom, .]</td>\n",
       "      <td>[(Sandra, NNP), (journeyed, VBD), (to, TO), (t...</td>\n",
       "      <td>(Sandra, journeyed, bedroom)</td>\n",
       "    </tr>\n",
       "    <tr>\n",
       "      <th>2</th>\n",
       "      <td>[Mary, got, the, football, there, .]</td>\n",
       "      <td>[(Mary, NNP), (got, VBD), (the, DT), (football...</td>\n",
       "      <td>(Mary, got, football)</td>\n",
       "    </tr>\n",
       "    <tr>\n",
       "      <th>3</th>\n",
       "      <td>[John, went, to, the, kitchen, .]</td>\n",
       "      <td>[(John, NNP), (went, VBD), (to, TO), (the, DT)...</td>\n",
       "      <td>(John, went, kitchen)</td>\n",
       "    </tr>\n",
       "    <tr>\n",
       "      <th>4</th>\n",
       "      <td>[Mary, went, back, to, the, kitchen, .]</td>\n",
       "      <td>[(Mary, NNP), (went, VBD), (back, RB), (to, TO...</td>\n",
       "      <td>(Mary, went, kitchen)</td>\n",
       "    </tr>\n",
       "    <tr>\n",
       "      <th>5</th>\n",
       "      <td>[Mary, went, back, to, the, garden, .]</td>\n",
       "      <td>[(Mary, NNP), (went, VBD), (back, RB), (to, TO...</td>\n",
       "      <td>(Mary, went, garden)</td>\n",
       "    </tr>\n",
       "    <tr>\n",
       "      <th>6</th>\n",
       "      <td>[Sandra, went, back, to, the, office, .]</td>\n",
       "      <td>[(Sandra, NNP), (went, VBD), (back, RB), (to, ...</td>\n",
       "      <td>(Sandra, went, office)</td>\n",
       "    </tr>\n",
       "    <tr>\n",
       "      <th>7</th>\n",
       "      <td>[John, moved, to, the, office, .]</td>\n",
       "      <td>[(John, NNP), (moved, VBD), (to, TO), (the, DT...</td>\n",
       "      <td>(John, moved, office)</td>\n",
       "    </tr>\n",
       "    <tr>\n",
       "      <th>8</th>\n",
       "      <td>[Sandra, journeyed, to, the, hallway, .]</td>\n",
       "      <td>[(Sandra, NNP), (journeyed, VBD), (to, TO), (t...</td>\n",
       "      <td>(Sandra, journeyed, hallway)</td>\n",
       "    </tr>\n",
       "    <tr>\n",
       "      <th>9</th>\n",
       "      <td>[Daniel, went, back, to, the, kitchen, .]</td>\n",
       "      <td>[(Daniel, NNP), (went, VBD), (back, RB), (to, ...</td>\n",
       "      <td>(Daniel, went, kitchen)</td>\n",
       "    </tr>\n",
       "    <tr>\n",
       "      <th>10</th>\n",
       "      <td>[Mary, dropped, the, football, .]</td>\n",
       "      <td>[(Mary, NNP), (dropped, VBD), (the, DT), (foot...</td>\n",
       "      <td>(Mary, dropped, football)</td>\n",
       "    </tr>\n",
       "    <tr>\n",
       "      <th>11</th>\n",
       "      <td>[John, got, the, milk, there, .]</td>\n",
       "      <td>[(John, NNP), (got, VBD), (the, DT), (milk, NN...</td>\n",
       "      <td>(John, got, milk)</td>\n",
       "    </tr>\n",
       "    <tr>\n",
       "      <th>12</th>\n",
       "      <td>[Mary, took, the, football, there, .]</td>\n",
       "      <td>[(Mary, NNP), (took, VBD), (the, DT), (footbal...</td>\n",
       "      <td>(Mary, took, football)</td>\n",
       "    </tr>\n",
       "    <tr>\n",
       "      <th>13</th>\n",
       "      <td>[Sandra, picked, up, the, apple, there, .]</td>\n",
       "      <td>[(Sandra, NNP), (picked, VBD), (up, RP), (the,...</td>\n",
       "      <td>(Sandra, picked, apple)</td>\n",
       "    </tr>\n",
       "    <tr>\n",
       "      <th>14</th>\n",
       "      <td>[Mary, travelled, to, the, hallway, .]</td>\n",
       "      <td>[(Mary, NNP), (travelled, VBD), (to, TO), (the...</td>\n",
       "      <td>(Mary, travelled, hallway)</td>\n",
       "    </tr>\n",
       "    <tr>\n",
       "      <th>15</th>\n",
       "      <td>[John, journeyed, to, the, kitchen, .]</td>\n",
       "      <td>[(John, NNP), (journeyed, NN), (to, TO), (the,...</td>\n",
       "      <td>(John, , kitchen)</td>\n",
       "    </tr>\n",
       "  </tbody>\n",
       "</table>\n",
       "</div>"
      ],
      "text/plain": [
       "                                      sentence  \\\n",
       "0          [Mary, moved, to, the, bathroom, .]   \n",
       "1     [Sandra, journeyed, to, the, bedroom, .]   \n",
       "2         [Mary, got, the, football, there, .]   \n",
       "3            [John, went, to, the, kitchen, .]   \n",
       "4      [Mary, went, back, to, the, kitchen, .]   \n",
       "5       [Mary, went, back, to, the, garden, .]   \n",
       "6     [Sandra, went, back, to, the, office, .]   \n",
       "7            [John, moved, to, the, office, .]   \n",
       "8     [Sandra, journeyed, to, the, hallway, .]   \n",
       "9    [Daniel, went, back, to, the, kitchen, .]   \n",
       "10           [Mary, dropped, the, football, .]   \n",
       "11            [John, got, the, milk, there, .]   \n",
       "12       [Mary, took, the, football, there, .]   \n",
       "13  [Sandra, picked, up, the, apple, there, .]   \n",
       "14      [Mary, travelled, to, the, hallway, .]   \n",
       "15      [John, journeyed, to, the, kitchen, .]   \n",
       "\n",
       "                                                  tag  \\\n",
       "0   [(Mary, NNP), (moved, VBD), (to, TO), (the, DT...   \n",
       "1   [(Sandra, NNP), (journeyed, VBD), (to, TO), (t...   \n",
       "2   [(Mary, NNP), (got, VBD), (the, DT), (football...   \n",
       "3   [(John, NNP), (went, VBD), (to, TO), (the, DT)...   \n",
       "4   [(Mary, NNP), (went, VBD), (back, RB), (to, TO...   \n",
       "5   [(Mary, NNP), (went, VBD), (back, RB), (to, TO...   \n",
       "6   [(Sandra, NNP), (went, VBD), (back, RB), (to, ...   \n",
       "7   [(John, NNP), (moved, VBD), (to, TO), (the, DT...   \n",
       "8   [(Sandra, NNP), (journeyed, VBD), (to, TO), (t...   \n",
       "9   [(Daniel, NNP), (went, VBD), (back, RB), (to, ...   \n",
       "10  [(Mary, NNP), (dropped, VBD), (the, DT), (foot...   \n",
       "11  [(John, NNP), (got, VBD), (the, DT), (milk, NN...   \n",
       "12  [(Mary, NNP), (took, VBD), (the, DT), (footbal...   \n",
       "13  [(Sandra, NNP), (picked, VBD), (up, RP), (the,...   \n",
       "14  [(Mary, NNP), (travelled, VBD), (to, TO), (the...   \n",
       "15  [(John, NNP), (journeyed, NN), (to, TO), (the,...   \n",
       "\n",
       "                       extracted  \n",
       "0        (Mary, moved, bathroom)  \n",
       "1   (Sandra, journeyed, bedroom)  \n",
       "2          (Mary, got, football)  \n",
       "3          (John, went, kitchen)  \n",
       "4          (Mary, went, kitchen)  \n",
       "5           (Mary, went, garden)  \n",
       "6         (Sandra, went, office)  \n",
       "7          (John, moved, office)  \n",
       "8   (Sandra, journeyed, hallway)  \n",
       "9        (Daniel, went, kitchen)  \n",
       "10     (Mary, dropped, football)  \n",
       "11             (John, got, milk)  \n",
       "12        (Mary, took, football)  \n",
       "13       (Sandra, picked, apple)  \n",
       "14    (Mary, travelled, hallway)  \n",
       "15             (John, , kitchen)  "
      ]
     },
     "execution_count": 307,
     "metadata": {},
     "output_type": "execute_result"
    }
   ],
   "source": [
    "statements()[0:16]"
   ]
  },
  {
   "cell_type": "code",
   "execution_count": 308,
   "metadata": {
    "collapsed": false
   },
   "outputs": [],
   "source": [
    "all_actions = sorted(list(set(x[1] for x in data.extracted if x != '' and x[1] != '')))"
   ]
  },
  {
   "cell_type": "code",
   "execution_count": 309,
   "metadata": {
    "collapsed": false
   },
   "outputs": [
    {
     "data": {
      "text/plain": [
       "['discarded',\n",
       " 'dropped',\n",
       " 'got',\n",
       " 'grabbed',\n",
       " 'i',\n",
       " 'journeyed',\n",
       " 'left',\n",
       " 'moved',\n",
       " 'o',\n",
       " 'p',\n",
       " 'picked',\n",
       " 'put',\n",
       " 'took',\n",
       " 'travelled',\n",
       " 'went']"
      ]
     },
     "execution_count": 309,
     "metadata": {},
     "output_type": "execute_result"
    }
   ],
   "source": [
    "all_actions"
   ]
  },
  {
   "cell_type": "code",
   "execution_count": 310,
   "metadata": {
    "collapsed": true
   },
   "outputs": [],
   "source": [
    "movement_actions = ['journeyed', 'moved', 'travelled', 'went']\n",
    "acquire_actions = ['got', 'grabbed', 'picked', 'took']\n",
    "release_actions = ['discarded', 'dropped', 'left', 'put']"
   ]
  },
  {
   "cell_type": "code",
   "execution_count": 311,
   "metadata": {
    "collapsed": true
   },
   "outputs": [],
   "source": [
    "def find_last_person(obj):\n",
    "    '''Finds the last person in contact with the object'''\n",
    "    query = '''\n",
    "        MATCH (:OBJECT {name:$name})-[:HEAD]->(relation:RELATION)<-[:R_BEGIN]-(subject:SUBJECT)\n",
    "        RETURN relation.name AS relation, subject.name AS subject\n",
    "    '''\n",
    "    return session.run(query, name=obj)"
   ]
  },
  {
   "cell_type": "code",
   "execution_count": 340,
   "metadata": {
    "collapsed": false
   },
   "outputs": [],
   "source": [
    "session = driver.session()\n",
    "last_person = find_last_person('football').single()\n",
    "last_person"
   ]
  },
  {
   "cell_type": "code",
   "execution_count": 368,
   "metadata": {
    "collapsed": false
   },
   "outputs": [],
   "source": [
    "def find_object_location(subject, relation):\n",
    "    if relation in acquire_actions:\n",
    "        query = '''\n",
    "            MATCH (:SUBJECT {name:$subject})-[:HEAD]->(:RELATION)-[:R_END]->(object:OBJECT)\n",
    "            RETURN object.name AS obj\n",
    "            \n",
    "            //MATCH (:SUBJECT {name:$subject})-[:HEAD]->(relation:RELATION)\n",
    "            //MATCH p=shortestPath((relation)-[:S_NEXT *]->(nextRelation:RELATION))\n",
    "            //WHERE nextRelation.name IN $movement\n",
    "            //MATCH (nextRelation)-[:R_END]->(object:OBJECT)\n",
    "            //RETURN object.name AS obj\n",
    "        '''\n",
    "    else:\n",
    "        query = '''\n",
    "            //MATCH (:SUBJECT {name:$subject})-[:R_BEGIN]->(:RELATION)<-[:S_NEXT]-(:RELATION)-[:R_END]->(object:OBJECT)\n",
    "            //RETURN object.name AS obj\n",
    "            \n",
    "            MATCH (:SUBJECT {name:$subject})-[:R_BEGIN]->(relation:RELATION {name:$relation})\n",
    "            MATCH p=(relation)<-[next:S_NEXT *1..20]-(prevRelation:RELATION)\n",
    "            WHERE prevRelation.name IN $movement\n",
    "            WITH size(next) as dist, p\n",
    "            ORDER BY dist\n",
    "            WITH filter(n IN nodes(p) WHERE n.name IN $movement)[0] AS shortest\n",
    "            MATCH (shortest)-[:R_END]->(object:OBJECT)\n",
    "            RETURN DISTINCT object.name AS obj\n",
    "        '''\n",
    "    return session.run(query, subject=subject, relation=relation, movement=movement_actions)"
   ]
  },
  {
   "cell_type": "code",
   "execution_count": 369,
   "metadata": {
    "collapsed": true
   },
   "outputs": [],
   "source": [
    "# def find_object_location(obj):\n",
    "#     if relation in acquire_actions:\n",
    "#         query = '''\n",
    "#             MATCH (:OBJECT {name:$obj})-[:HEAD]->(relation:RELATION)<-[:R_BEGIN]-(subject:SUBJECT)\n",
    "        \n",
    "#             MATCH (subject)-[:HEAD]->(:RELATION)-[:R_END]->(object:OBJECT)\n",
    "#             RETURN object.name AS obj\n",
    "            \n",
    "#             //MATCH (:SUBJECT {name:$subject})-[:HEAD]->(relation:RELATION)\n",
    "#             //MATCH p=shortestPath((relation)-[:S_NEXT *]->(nextRelation:RELATION))\n",
    "#             //WHERE nextRelation.name IN $movement\n",
    "#             //MATCH (nextRelation)-[:R_END]->(object:OBJECT)\n",
    "#             //RETURN object.name AS obj\n",
    "#         '''\n",
    "#     else:\n",
    "#         query = '''\n",
    "#             //MATCH (:SUBJECT {name:$subject})-[:R_BEGIN]->(:RELATION)<-[:S_NEXT]-(:RELATION)-[:R_END]->(object:OBJECT)\n",
    "#             //RETURN object.name AS obj\n",
    "            \n",
    "#             MATCH (:OBJECT {name:$obj})-[:HEAD]->(relation:RELATION)<-[:R_BEGIN]-(subject:SUBJECT)\n",
    "            \n",
    "#             MATCH p=(relation)<-[next:S_NEXT *1..20]-(prevRelation:RELATION)\n",
    "#             WHERE prevRelation.name IN $movement\n",
    "#             WITH size(next) as dist, p\n",
    "#             ORDER BY dist\n",
    "#             WITH filter(n IN nodes(p) WHERE n.name IN $movement)[0] AS shortest\n",
    "#             MATCH (shortest)-[:R_END]->(object:OBJECT)\n",
    "#             RETURN DISTINCT object\n",
    "#         '''\n",
    "#     return session.run(query, obj=obj, movement=movement_actions)"
   ]
  },
  {
   "cell_type": "code",
   "execution_count": 370,
   "metadata": {
    "collapsed": false
   },
   "outputs": [
    {
     "name": "stderr",
     "output_type": "stream",
     "text": [
      "C:\\ProgramData\\Anaconda3\\lib\\site-packages\\neo4j\\v1\\api.py:702: UserWarning: Expected a result with a single record, but this result contains 6\n",
      "  warn(\"Expected a result with a single record, but this result contains %d\" % size)\n"
     ]
    },
    {
     "data": {
      "text/plain": [
       "<Record obj='kitchen'>"
      ]
     },
     "execution_count": 370,
     "metadata": {},
     "output_type": "execute_result"
    }
   ],
   "source": [
    "session = driver.session()\n",
    "find_object_location('Mary', 'dropped').single()"
   ]
  },
  {
   "cell_type": "markdown",
   "metadata": {},
   "source": [
    "## Build the Graph"
   ]
  },
  {
   "cell_type": "code",
   "execution_count": 63,
   "metadata": {
    "collapsed": false
   },
   "outputs": [],
   "source": [
    "build_v4_graph()"
   ]
  },
  {
   "cell_type": "markdown",
   "metadata": {},
   "source": [
    "<img src=\"screenshots/global-and-local-list.png\",width=1000>"
   ]
  },
  {
   "cell_type": "markdown",
   "metadata": {},
   "source": [
    "## Calcualte an Accuracy Score"
   ]
  },
  {
   "cell_type": "code",
   "execution_count": 372,
   "metadata": {
    "collapsed": true
   },
   "outputs": [],
   "source": [
    "def get_answers(row):\n",
    "    '''Given an input row merge the statement in the graph, \n",
    "    or query the graph if it is a question'''\n",
    "    if row.type == 'S':\n",
    "        subject,relation,obj = row.extracted\n",
    "        session.run(v4_query, subject=subject, relation=relation, obj=obj)\n",
    "        return ''\n",
    "    elif row.type == 'Q':\n",
    "        obj = row.extracted\n",
    "        # WARNING: do not consume the result (e.g., call .consume() or .single()) \n",
    "        # until the entire iteration is done.\n",
    "        # Failure to do so may cause the queries to be VERY slow!\n",
    "        return find_last_person(obj)"
   ]
  },
  {
   "cell_type": "code",
   "execution_count": 373,
   "metadata": {
    "collapsed": true
   },
   "outputs": [],
   "source": [
    "reset_db()"
   ]
  },
  {
   "cell_type": "code",
   "execution_count": 374,
   "metadata": {
    "collapsed": false
   },
   "outputs": [
    {
     "name": "stderr",
     "output_type": "stream",
     "text": [
      "C:\\ProgramData\\Anaconda3\\lib\\site-packages\\neo4j\\v1\\api.py:702: UserWarning: Expected a result with a single record, but this result contains 6\n",
      "  warn(\"Expected a result with a single record, but this result contains %d\" % size)\n"
     ]
    }
   ],
   "source": [
    "session = driver.session()\n",
    "results = data.apply(get_answers, axis=1)\n",
    "results = [x.single() for x in results if x != '']\n",
    "results = [find_object_location(x['subject'], x['relation']) for x in results]\n",
    "predicted = [x.single()['obj'] for x in results]"
   ]
  },
  {
   "cell_type": "code",
   "execution_count": 375,
   "metadata": {
    "collapsed": true
   },
   "outputs": [],
   "source": [
    "actual = list(data[data.type == 'Q'].answer)"
   ]
  },
  {
   "cell_type": "code",
   "execution_count": 376,
   "metadata": {
    "collapsed": false
   },
   "outputs": [
    {
     "data": {
      "text/plain": [
       "0.155"
      ]
     },
     "execution_count": 376,
     "metadata": {},
     "output_type": "execute_result"
    }
   ],
   "source": [
    "accuracy_score(actual, predicted)"
   ]
  },
  {
   "cell_type": "code",
   "execution_count": null,
   "metadata": {
    "collapsed": true
   },
   "outputs": [],
   "source": []
  }
 ],
 "metadata": {
  "kernelspec": {
   "display_name": "Python 3",
   "language": "python",
   "name": "python3"
  },
  "language_info": {
   "codemirror_mode": {
    "name": "ipython",
    "version": 3
   },
   "file_extension": ".py",
   "mimetype": "text/x-python",
   "name": "python",
   "nbconvert_exporter": "python",
   "pygments_lexer": "ipython3",
   "version": "3.6.0"
  }
 },
 "nbformat": 4,
 "nbformat_minor": 2
}
